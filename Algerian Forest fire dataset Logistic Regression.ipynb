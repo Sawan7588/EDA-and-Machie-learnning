{
 "cells": [
  {
   "cell_type": "markdown",
   "id": "e7a7a944",
   "metadata": {},
   "source": [
    "## Problem Statement\n",
    "\n",
    "1 . This project understands how the Algerian forest Fires occuring"
   ]
  },
  {
   "cell_type": "markdown",
   "id": "64b2b1e9",
   "metadata": {},
   "source": [
    "## Data Collection\n",
    "\n",
    "1. Data Source - https://archive.ics.uci.edu/ml/datasets/Algerian+Forest+Fires+Dataset++"
   ]
  },
  {
   "cell_type": "markdown",
   "id": "ec3868f0",
   "metadata": {},
   "source": [
    "## 2.1 Import Data and Required Packages\n",
    "\n",
    "\n",
    "#### Importing Pandas, Numpy, Matplotlib, Seaborn and Warings Library."
   ]
  },
  {
   "cell_type": "code",
   "execution_count": 1,
   "id": "7f6f3982",
   "metadata": {},
   "outputs": [],
   "source": [
    "import pandas as pd\n",
    "import numpy as np\n",
    "import seaborn as sns\n",
    "import matplotlib.pyplot as plt\n",
    "%matplotlib inline\n",
    "import warnings\n",
    "warnings.filterwarnings('ignore')"
   ]
  },
  {
   "cell_type": "markdown",
   "id": "0bc83b9a",
   "metadata": {},
   "source": [
    "#### Import the CSV Data as Pandas DataFrame"
   ]
  },
  {
   "cell_type": "code",
   "execution_count": 2,
   "id": "2ed3373a",
   "metadata": {},
   "outputs": [],
   "source": [
    "df = pd.read_csv(r'C:\\Users\\ss\\Downloads\\Algerian_forest_fires_dataset_UPDATE.csv',header=1)"
   ]
  },
  {
   "cell_type": "code",
   "execution_count": 3,
   "id": "1af23a77",
   "metadata": {},
   "outputs": [
    {
     "data": {
      "text/html": [
       "<div>\n",
       "<style scoped>\n",
       "    .dataframe tbody tr th:only-of-type {\n",
       "        vertical-align: middle;\n",
       "    }\n",
       "\n",
       "    .dataframe tbody tr th {\n",
       "        vertical-align: top;\n",
       "    }\n",
       "\n",
       "    .dataframe thead th {\n",
       "        text-align: right;\n",
       "    }\n",
       "</style>\n",
       "<table border=\"1\" class=\"dataframe\">\n",
       "  <thead>\n",
       "    <tr style=\"text-align: right;\">\n",
       "      <th></th>\n",
       "      <th>day</th>\n",
       "      <th>month</th>\n",
       "      <th>year</th>\n",
       "      <th>Temperature</th>\n",
       "      <th>RH</th>\n",
       "      <th>Ws</th>\n",
       "      <th>Rain</th>\n",
       "      <th>FFMC</th>\n",
       "      <th>DMC</th>\n",
       "      <th>DC</th>\n",
       "      <th>ISI</th>\n",
       "      <th>BUI</th>\n",
       "      <th>FWI</th>\n",
       "      <th>Classes</th>\n",
       "    </tr>\n",
       "  </thead>\n",
       "  <tbody>\n",
       "    <tr>\n",
       "      <th>0</th>\n",
       "      <td>01</td>\n",
       "      <td>06</td>\n",
       "      <td>2012</td>\n",
       "      <td>29</td>\n",
       "      <td>57</td>\n",
       "      <td>18</td>\n",
       "      <td>0</td>\n",
       "      <td>65.7</td>\n",
       "      <td>3.4</td>\n",
       "      <td>7.6</td>\n",
       "      <td>1.3</td>\n",
       "      <td>3.4</td>\n",
       "      <td>0.5</td>\n",
       "      <td>not fire</td>\n",
       "    </tr>\n",
       "    <tr>\n",
       "      <th>1</th>\n",
       "      <td>02</td>\n",
       "      <td>06</td>\n",
       "      <td>2012</td>\n",
       "      <td>29</td>\n",
       "      <td>61</td>\n",
       "      <td>13</td>\n",
       "      <td>1.3</td>\n",
       "      <td>64.4</td>\n",
       "      <td>4.1</td>\n",
       "      <td>7.6</td>\n",
       "      <td>1</td>\n",
       "      <td>3.9</td>\n",
       "      <td>0.4</td>\n",
       "      <td>not fire</td>\n",
       "    </tr>\n",
       "    <tr>\n",
       "      <th>2</th>\n",
       "      <td>03</td>\n",
       "      <td>06</td>\n",
       "      <td>2012</td>\n",
       "      <td>26</td>\n",
       "      <td>82</td>\n",
       "      <td>22</td>\n",
       "      <td>13.1</td>\n",
       "      <td>47.1</td>\n",
       "      <td>2.5</td>\n",
       "      <td>7.1</td>\n",
       "      <td>0.3</td>\n",
       "      <td>2.7</td>\n",
       "      <td>0.1</td>\n",
       "      <td>not fire</td>\n",
       "    </tr>\n",
       "    <tr>\n",
       "      <th>3</th>\n",
       "      <td>04</td>\n",
       "      <td>06</td>\n",
       "      <td>2012</td>\n",
       "      <td>25</td>\n",
       "      <td>89</td>\n",
       "      <td>13</td>\n",
       "      <td>2.5</td>\n",
       "      <td>28.6</td>\n",
       "      <td>1.3</td>\n",
       "      <td>6.9</td>\n",
       "      <td>0</td>\n",
       "      <td>1.7</td>\n",
       "      <td>0</td>\n",
       "      <td>not fire</td>\n",
       "    </tr>\n",
       "    <tr>\n",
       "      <th>4</th>\n",
       "      <td>05</td>\n",
       "      <td>06</td>\n",
       "      <td>2012</td>\n",
       "      <td>27</td>\n",
       "      <td>77</td>\n",
       "      <td>16</td>\n",
       "      <td>0</td>\n",
       "      <td>64.8</td>\n",
       "      <td>3</td>\n",
       "      <td>14.2</td>\n",
       "      <td>1.2</td>\n",
       "      <td>3.9</td>\n",
       "      <td>0.5</td>\n",
       "      <td>not fire</td>\n",
       "    </tr>\n",
       "  </tbody>\n",
       "</table>\n",
       "</div>"
      ],
      "text/plain": [
       "  day month  year Temperature  RH  Ws Rain   FFMC  DMC    DC  ISI  BUI  FWI  \\\n",
       "0  01    06  2012          29  57  18     0  65.7  3.4   7.6  1.3  3.4  0.5   \n",
       "1  02    06  2012          29  61  13   1.3  64.4  4.1   7.6    1  3.9  0.4   \n",
       "2  03    06  2012          26  82  22  13.1  47.1  2.5   7.1  0.3  2.7  0.1   \n",
       "3  04    06  2012          25  89  13   2.5  28.6  1.3   6.9    0  1.7    0   \n",
       "4  05    06  2012          27  77  16     0  64.8    3  14.2  1.2  3.9  0.5   \n",
       "\n",
       "     Classes    \n",
       "0  not fire     \n",
       "1  not fire     \n",
       "2  not fire     \n",
       "3  not fire     \n",
       "4  not fire     "
      ]
     },
     "execution_count": 3,
     "metadata": {},
     "output_type": "execute_result"
    }
   ],
   "source": [
    "df.head()"
   ]
  },
  {
   "cell_type": "markdown",
   "id": "041aa546",
   "metadata": {},
   "source": [
    "## 2.2 Data Cleaning"
   ]
  },
  {
   "cell_type": "code",
   "execution_count": 4,
   "id": "2b1ac2e2",
   "metadata": {},
   "outputs": [
    {
     "data": {
      "text/html": [
       "<div>\n",
       "<style scoped>\n",
       "    .dataframe tbody tr th:only-of-type {\n",
       "        vertical-align: middle;\n",
       "    }\n",
       "\n",
       "    .dataframe tbody tr th {\n",
       "        vertical-align: top;\n",
       "    }\n",
       "\n",
       "    .dataframe thead th {\n",
       "        text-align: right;\n",
       "    }\n",
       "</style>\n",
       "<table border=\"1\" class=\"dataframe\">\n",
       "  <thead>\n",
       "    <tr style=\"text-align: right;\">\n",
       "      <th></th>\n",
       "      <th>day</th>\n",
       "      <th>month</th>\n",
       "      <th>year</th>\n",
       "      <th>Temperature</th>\n",
       "      <th>RH</th>\n",
       "      <th>Ws</th>\n",
       "      <th>Rain</th>\n",
       "      <th>FFMC</th>\n",
       "      <th>DMC</th>\n",
       "      <th>DC</th>\n",
       "      <th>ISI</th>\n",
       "      <th>BUI</th>\n",
       "      <th>FWI</th>\n",
       "      <th>Classes</th>\n",
       "    </tr>\n",
       "  </thead>\n",
       "  <tbody>\n",
       "    <tr>\n",
       "      <th>122</th>\n",
       "      <td>Sidi-Bel Abbes Region Dataset</td>\n",
       "      <td>NaN</td>\n",
       "      <td>NaN</td>\n",
       "      <td>NaN</td>\n",
       "      <td>NaN</td>\n",
       "      <td>NaN</td>\n",
       "      <td>NaN</td>\n",
       "      <td>NaN</td>\n",
       "      <td>NaN</td>\n",
       "      <td>NaN</td>\n",
       "      <td>NaN</td>\n",
       "      <td>NaN</td>\n",
       "      <td>NaN</td>\n",
       "      <td>NaN</td>\n",
       "    </tr>\n",
       "    <tr>\n",
       "      <th>167</th>\n",
       "      <td>14</td>\n",
       "      <td>07</td>\n",
       "      <td>2012</td>\n",
       "      <td>37</td>\n",
       "      <td>37</td>\n",
       "      <td>18</td>\n",
       "      <td>0.2</td>\n",
       "      <td>88.9</td>\n",
       "      <td>12.9</td>\n",
       "      <td>14.6 9</td>\n",
       "      <td>12.5</td>\n",
       "      <td>10.4</td>\n",
       "      <td>fire</td>\n",
       "      <td>NaN</td>\n",
       "    </tr>\n",
       "  </tbody>\n",
       "</table>\n",
       "</div>"
      ],
      "text/plain": [
       "                               day month  year Temperature   RH   Ws Rain   \\\n",
       "122  Sidi-Bel Abbes Region Dataset   NaN   NaN         NaN  NaN  NaN   NaN   \n",
       "167                             14    07  2012          37   37   18   0.2   \n",
       "\n",
       "     FFMC   DMC      DC   ISI   BUI      FWI Classes    \n",
       "122   NaN   NaN     NaN   NaN   NaN      NaN       NaN  \n",
       "167  88.9  12.9  14.6 9  12.5  10.4  fire          NaN  "
      ]
     },
     "execution_count": 4,
     "metadata": {},
     "output_type": "execute_result"
    }
   ],
   "source": [
    "df.loc[df.isnull().any(axis=1)]"
   ]
  },
  {
   "cell_type": "code",
   "execution_count": 5,
   "id": "d18defde",
   "metadata": {},
   "outputs": [
    {
     "data": {
      "text/html": [
       "<div>\n",
       "<style scoped>\n",
       "    .dataframe tbody tr th:only-of-type {\n",
       "        vertical-align: middle;\n",
       "    }\n",
       "\n",
       "    .dataframe tbody tr th {\n",
       "        vertical-align: top;\n",
       "    }\n",
       "\n",
       "    .dataframe thead th {\n",
       "        text-align: right;\n",
       "    }\n",
       "</style>\n",
       "<table border=\"1\" class=\"dataframe\">\n",
       "  <thead>\n",
       "    <tr style=\"text-align: right;\">\n",
       "      <th></th>\n",
       "      <th>day</th>\n",
       "      <th>month</th>\n",
       "      <th>year</th>\n",
       "      <th>Temperature</th>\n",
       "      <th>RH</th>\n",
       "      <th>Ws</th>\n",
       "      <th>Rain</th>\n",
       "      <th>FFMC</th>\n",
       "      <th>DMC</th>\n",
       "      <th>DC</th>\n",
       "      <th>ISI</th>\n",
       "      <th>BUI</th>\n",
       "      <th>FWI</th>\n",
       "      <th>Classes</th>\n",
       "    </tr>\n",
       "  </thead>\n",
       "  <tbody>\n",
       "    <tr>\n",
       "      <th>122</th>\n",
       "      <td>Sidi-Bel Abbes Region Dataset</td>\n",
       "      <td>NaN</td>\n",
       "      <td>NaN</td>\n",
       "      <td>NaN</td>\n",
       "      <td>NaN</td>\n",
       "      <td>NaN</td>\n",
       "      <td>NaN</td>\n",
       "      <td>NaN</td>\n",
       "      <td>NaN</td>\n",
       "      <td>NaN</td>\n",
       "      <td>NaN</td>\n",
       "      <td>NaN</td>\n",
       "      <td>NaN</td>\n",
       "      <td>NaN</td>\n",
       "    </tr>\n",
       "    <tr>\n",
       "      <th>123</th>\n",
       "      <td>day</td>\n",
       "      <td>month</td>\n",
       "      <td>year</td>\n",
       "      <td>Temperature</td>\n",
       "      <td>RH</td>\n",
       "      <td>Ws</td>\n",
       "      <td>Rain</td>\n",
       "      <td>FFMC</td>\n",
       "      <td>DMC</td>\n",
       "      <td>DC</td>\n",
       "      <td>ISI</td>\n",
       "      <td>BUI</td>\n",
       "      <td>FWI</td>\n",
       "      <td>Classes</td>\n",
       "    </tr>\n",
       "    <tr>\n",
       "      <th>124</th>\n",
       "      <td>01</td>\n",
       "      <td>06</td>\n",
       "      <td>2012</td>\n",
       "      <td>32</td>\n",
       "      <td>71</td>\n",
       "      <td>12</td>\n",
       "      <td>0.7</td>\n",
       "      <td>57.1</td>\n",
       "      <td>2.5</td>\n",
       "      <td>8.2</td>\n",
       "      <td>0.6</td>\n",
       "      <td>2.8</td>\n",
       "      <td>0.2</td>\n",
       "      <td>not fire</td>\n",
       "    </tr>\n",
       "    <tr>\n",
       "      <th>125</th>\n",
       "      <td>02</td>\n",
       "      <td>06</td>\n",
       "      <td>2012</td>\n",
       "      <td>30</td>\n",
       "      <td>73</td>\n",
       "      <td>13</td>\n",
       "      <td>4</td>\n",
       "      <td>55.7</td>\n",
       "      <td>2.7</td>\n",
       "      <td>7.8</td>\n",
       "      <td>0.6</td>\n",
       "      <td>2.9</td>\n",
       "      <td>0.2</td>\n",
       "      <td>not fire</td>\n",
       "    </tr>\n",
       "    <tr>\n",
       "      <th>126</th>\n",
       "      <td>03</td>\n",
       "      <td>06</td>\n",
       "      <td>2012</td>\n",
       "      <td>29</td>\n",
       "      <td>80</td>\n",
       "      <td>14</td>\n",
       "      <td>2</td>\n",
       "      <td>48.7</td>\n",
       "      <td>2.2</td>\n",
       "      <td>7.6</td>\n",
       "      <td>0.3</td>\n",
       "      <td>2.6</td>\n",
       "      <td>0.1</td>\n",
       "      <td>not fire</td>\n",
       "    </tr>\n",
       "  </tbody>\n",
       "</table>\n",
       "</div>"
      ],
      "text/plain": [
       "                               day  month  year  Temperature   RH   Ws  Rain   \\\n",
       "122  Sidi-Bel Abbes Region Dataset    NaN   NaN          NaN  NaN  NaN    NaN   \n",
       "123                            day  month  year  Temperature   RH   Ws  Rain    \n",
       "124                             01     06  2012           32   71   12    0.7   \n",
       "125                             02     06  2012           30   73   13      4   \n",
       "126                             03     06  2012           29   80   14      2   \n",
       "\n",
       "     FFMC  DMC   DC  ISI  BUI  FWI    Classes    \n",
       "122   NaN  NaN  NaN  NaN  NaN  NaN          NaN  \n",
       "123  FFMC  DMC   DC  ISI  BUI  FWI    Classes    \n",
       "124  57.1  2.5  8.2  0.6  2.8  0.2  not fire     \n",
       "125  55.7  2.7  7.8  0.6  2.9  0.2  not fire     \n",
       "126  48.7  2.2  7.6  0.3  2.6  0.1  not fire     "
      ]
     },
     "execution_count": 5,
     "metadata": {},
     "output_type": "execute_result"
    }
   ],
   "source": [
    "df.loc[122:].head()"
   ]
  },
  {
   "cell_type": "code",
   "execution_count": 6,
   "id": "4cc39461",
   "metadata": {},
   "outputs": [
    {
     "data": {
      "text/html": [
       "<div>\n",
       "<style scoped>\n",
       "    .dataframe tbody tr th:only-of-type {\n",
       "        vertical-align: middle;\n",
       "    }\n",
       "\n",
       "    .dataframe tbody tr th {\n",
       "        vertical-align: top;\n",
       "    }\n",
       "\n",
       "    .dataframe thead th {\n",
       "        text-align: right;\n",
       "    }\n",
       "</style>\n",
       "<table border=\"1\" class=\"dataframe\">\n",
       "  <thead>\n",
       "    <tr style=\"text-align: right;\">\n",
       "      <th></th>\n",
       "      <th>day</th>\n",
       "      <th>month</th>\n",
       "      <th>year</th>\n",
       "      <th>Temperature</th>\n",
       "      <th>RH</th>\n",
       "      <th>Ws</th>\n",
       "      <th>Rain</th>\n",
       "      <th>FFMC</th>\n",
       "      <th>DMC</th>\n",
       "      <th>DC</th>\n",
       "      <th>ISI</th>\n",
       "      <th>BUI</th>\n",
       "      <th>FWI</th>\n",
       "      <th>Classes</th>\n",
       "    </tr>\n",
       "  </thead>\n",
       "  <tbody>\n",
       "    <tr>\n",
       "      <th>124</th>\n",
       "      <td>01</td>\n",
       "      <td>06</td>\n",
       "      <td>2012</td>\n",
       "      <td>32</td>\n",
       "      <td>71</td>\n",
       "      <td>12</td>\n",
       "      <td>0.7</td>\n",
       "      <td>57.1</td>\n",
       "      <td>2.5</td>\n",
       "      <td>8.2</td>\n",
       "      <td>0.6</td>\n",
       "      <td>2.8</td>\n",
       "      <td>0.2</td>\n",
       "      <td>not fire</td>\n",
       "    </tr>\n",
       "    <tr>\n",
       "      <th>125</th>\n",
       "      <td>02</td>\n",
       "      <td>06</td>\n",
       "      <td>2012</td>\n",
       "      <td>30</td>\n",
       "      <td>73</td>\n",
       "      <td>13</td>\n",
       "      <td>4</td>\n",
       "      <td>55.7</td>\n",
       "      <td>2.7</td>\n",
       "      <td>7.8</td>\n",
       "      <td>0.6</td>\n",
       "      <td>2.9</td>\n",
       "      <td>0.2</td>\n",
       "      <td>not fire</td>\n",
       "    </tr>\n",
       "    <tr>\n",
       "      <th>126</th>\n",
       "      <td>03</td>\n",
       "      <td>06</td>\n",
       "      <td>2012</td>\n",
       "      <td>29</td>\n",
       "      <td>80</td>\n",
       "      <td>14</td>\n",
       "      <td>2</td>\n",
       "      <td>48.7</td>\n",
       "      <td>2.2</td>\n",
       "      <td>7.6</td>\n",
       "      <td>0.3</td>\n",
       "      <td>2.6</td>\n",
       "      <td>0.1</td>\n",
       "      <td>not fire</td>\n",
       "    </tr>\n",
       "    <tr>\n",
       "      <th>127</th>\n",
       "      <td>04</td>\n",
       "      <td>06</td>\n",
       "      <td>2012</td>\n",
       "      <td>30</td>\n",
       "      <td>64</td>\n",
       "      <td>14</td>\n",
       "      <td>0</td>\n",
       "      <td>79.4</td>\n",
       "      <td>5.2</td>\n",
       "      <td>15.4</td>\n",
       "      <td>2.2</td>\n",
       "      <td>5.6</td>\n",
       "      <td>1</td>\n",
       "      <td>not fire</td>\n",
       "    </tr>\n",
       "    <tr>\n",
       "      <th>128</th>\n",
       "      <td>05</td>\n",
       "      <td>06</td>\n",
       "      <td>2012</td>\n",
       "      <td>32</td>\n",
       "      <td>60</td>\n",
       "      <td>14</td>\n",
       "      <td>0.2</td>\n",
       "      <td>77.1</td>\n",
       "      <td>6</td>\n",
       "      <td>17.6</td>\n",
       "      <td>1.8</td>\n",
       "      <td>6.5</td>\n",
       "      <td>0.9</td>\n",
       "      <td>not fire</td>\n",
       "    </tr>\n",
       "  </tbody>\n",
       "</table>\n",
       "</div>"
      ],
      "text/plain": [
       "    day month  year Temperature  RH  Ws Rain   FFMC  DMC    DC  ISI  BUI  FWI  \\\n",
       "124  01    06  2012          32  71  12   0.7  57.1  2.5   8.2  0.6  2.8  0.2   \n",
       "125  02    06  2012          30  73  13     4  55.7  2.7   7.8  0.6  2.9  0.2   \n",
       "126  03    06  2012          29  80  14     2  48.7  2.2   7.6  0.3  2.6  0.1   \n",
       "127  04    06  2012          30  64  14     0  79.4  5.2  15.4  2.2  5.6    1   \n",
       "128  05    06  2012          32  60  14   0.2  77.1    6  17.6  1.8  6.5  0.9   \n",
       "\n",
       "       Classes    \n",
       "124  not fire     \n",
       "125  not fire     \n",
       "126  not fire     \n",
       "127  not fire     \n",
       "128  not fire     "
      ]
     },
     "execution_count": 6,
     "metadata": {},
     "output_type": "execute_result"
    }
   ],
   "source": [
    "## as we can see that row 122 has nan values and 123 has column names so we have to drop it\n",
    "\n",
    "df.drop([122,123],axis=0, inplace=True)\n",
    "df.loc[122:].head()"
   ]
  },
  {
   "cell_type": "code",
   "execution_count": 7,
   "id": "6403265a",
   "metadata": {},
   "outputs": [],
   "source": [
    "# replacing string present with float value\n",
    "\n",
    "df.loc[167,'FWI'] =' 0.1'\n",
    "\n",
    "# replacing '14.6 9' with '14.69'\n",
    "df.loc[167, 'DC'] = '14.69'"
   ]
  },
  {
   "cell_type": "code",
   "execution_count": 8,
   "id": "bb16d3b1",
   "metadata": {},
   "outputs": [
    {
     "data": {
      "text/html": [
       "<div>\n",
       "<style scoped>\n",
       "    .dataframe tbody tr th:only-of-type {\n",
       "        vertical-align: middle;\n",
       "    }\n",
       "\n",
       "    .dataframe tbody tr th {\n",
       "        vertical-align: top;\n",
       "    }\n",
       "\n",
       "    .dataframe thead th {\n",
       "        text-align: right;\n",
       "    }\n",
       "</style>\n",
       "<table border=\"1\" class=\"dataframe\">\n",
       "  <thead>\n",
       "    <tr style=\"text-align: right;\">\n",
       "      <th></th>\n",
       "      <th>day</th>\n",
       "      <th>month</th>\n",
       "      <th>year</th>\n",
       "      <th>Temperature</th>\n",
       "      <th>RH</th>\n",
       "      <th>Ws</th>\n",
       "      <th>Rain</th>\n",
       "      <th>FFMC</th>\n",
       "      <th>DMC</th>\n",
       "      <th>DC</th>\n",
       "      <th>ISI</th>\n",
       "      <th>BUI</th>\n",
       "      <th>FWI</th>\n",
       "      <th>Classes</th>\n",
       "    </tr>\n",
       "  </thead>\n",
       "  <tbody>\n",
       "    <tr>\n",
       "      <th>165</th>\n",
       "      <td>12</td>\n",
       "      <td>07</td>\n",
       "      <td>2012</td>\n",
       "      <td>36</td>\n",
       "      <td>44</td>\n",
       "      <td>13</td>\n",
       "      <td>0</td>\n",
       "      <td>90.1</td>\n",
       "      <td>12.6</td>\n",
       "      <td>19.4</td>\n",
       "      <td>8.3</td>\n",
       "      <td>12.5</td>\n",
       "      <td>9.6</td>\n",
       "      <td>fire</td>\n",
       "    </tr>\n",
       "    <tr>\n",
       "      <th>166</th>\n",
       "      <td>13</td>\n",
       "      <td>07</td>\n",
       "      <td>2012</td>\n",
       "      <td>39</td>\n",
       "      <td>45</td>\n",
       "      <td>13</td>\n",
       "      <td>0.6</td>\n",
       "      <td>85.2</td>\n",
       "      <td>11.3</td>\n",
       "      <td>10.4</td>\n",
       "      <td>4.2</td>\n",
       "      <td>10.9</td>\n",
       "      <td>4.7</td>\n",
       "      <td>fire</td>\n",
       "    </tr>\n",
       "    <tr>\n",
       "      <th>167</th>\n",
       "      <td>14</td>\n",
       "      <td>07</td>\n",
       "      <td>2012</td>\n",
       "      <td>37</td>\n",
       "      <td>37</td>\n",
       "      <td>18</td>\n",
       "      <td>0.2</td>\n",
       "      <td>88.9</td>\n",
       "      <td>12.9</td>\n",
       "      <td>14.69</td>\n",
       "      <td>12.5</td>\n",
       "      <td>10.4</td>\n",
       "      <td>0.1</td>\n",
       "      <td>NaN</td>\n",
       "    </tr>\n",
       "    <tr>\n",
       "      <th>168</th>\n",
       "      <td>15</td>\n",
       "      <td>07</td>\n",
       "      <td>2012</td>\n",
       "      <td>34</td>\n",
       "      <td>45</td>\n",
       "      <td>17</td>\n",
       "      <td>0</td>\n",
       "      <td>90.5</td>\n",
       "      <td>18</td>\n",
       "      <td>24.1</td>\n",
       "      <td>10.9</td>\n",
       "      <td>17.7</td>\n",
       "      <td>14.1</td>\n",
       "      <td>fire</td>\n",
       "    </tr>\n",
       "    <tr>\n",
       "      <th>169</th>\n",
       "      <td>16</td>\n",
       "      <td>07</td>\n",
       "      <td>2012</td>\n",
       "      <td>31</td>\n",
       "      <td>83</td>\n",
       "      <td>17</td>\n",
       "      <td>0</td>\n",
       "      <td>84.5</td>\n",
       "      <td>19.4</td>\n",
       "      <td>33.1</td>\n",
       "      <td>4.7</td>\n",
       "      <td>19.2</td>\n",
       "      <td>7.3</td>\n",
       "      <td>fire</td>\n",
       "    </tr>\n",
       "  </tbody>\n",
       "</table>\n",
       "</div>"
      ],
      "text/plain": [
       "    day month  year Temperature  RH  Ws Rain   FFMC   DMC     DC   ISI   BUI  \\\n",
       "165  12    07  2012          36  44  13     0  90.1  12.6   19.4   8.3  12.5   \n",
       "166  13    07  2012          39  45  13   0.6  85.2  11.3   10.4   4.2  10.9   \n",
       "167  14    07  2012          37  37  18   0.2  88.9  12.9  14.69  12.5  10.4   \n",
       "168  15    07  2012          34  45  17     0  90.5    18   24.1  10.9  17.7   \n",
       "169  16    07  2012          31  83  17     0  84.5  19.4   33.1   4.7  19.2   \n",
       "\n",
       "      FWI Classes    \n",
       "165   9.6   fire     \n",
       "166   4.7   fire     \n",
       "167   0.1       NaN  \n",
       "168  14.1   fire     \n",
       "169   7.3   fire     "
      ]
     },
     "execution_count": 8,
     "metadata": {},
     "output_type": "execute_result"
    }
   ],
   "source": [
    "df.loc[165:].head()"
   ]
  },
  {
   "cell_type": "code",
   "execution_count": 9,
   "id": "38baaf11",
   "metadata": {},
   "outputs": [
    {
     "data": {
      "text/plain": [
       "Index(['day', 'month', 'year', 'Temperature', ' RH', ' Ws', 'Rain ', 'FFMC',\n",
       "       'DMC', 'DC', 'ISI', 'BUI', 'FWI', 'Classes  '],\n",
       "      dtype='object')"
      ]
     },
     "execution_count": 9,
     "metadata": {},
     "output_type": "execute_result"
    }
   ],
   "source": [
    "df.columns"
   ]
  },
  {
   "cell_type": "code",
   "execution_count": 10,
   "id": "f0bdb144",
   "metadata": {},
   "outputs": [
    {
     "data": {
      "text/plain": [
       "[' RH', ' Ws', 'Rain ', 'Classes  ']"
      ]
     },
     "execution_count": 10,
     "metadata": {},
     "output_type": "execute_result"
    }
   ],
   "source": [
    "#### there are some extra spaces in column names\n",
    "\n",
    "[x for x in df.columns if x.endswith(' ') or x.startswith(' ')]"
   ]
  },
  {
   "cell_type": "code",
   "execution_count": 11,
   "id": "587a36bf",
   "metadata": {},
   "outputs": [
    {
     "data": {
      "text/plain": [
       "Index(['day', 'month', 'year', 'Temperature', 'RH', 'Ws', 'Rain', 'FFMC',\n",
       "       'DMC', 'DC', 'ISI', 'BUI', 'FWI', 'Classes'],\n",
       "      dtype='object')"
      ]
     },
     "execution_count": 11,
     "metadata": {},
     "output_type": "execute_result"
    }
   ],
   "source": [
    "# Remove extra spaces in column names\n",
    "\n",
    "df.columns = df.columns.str.strip()\n",
    "\n",
    "df.columns"
   ]
  },
  {
   "cell_type": "code",
   "execution_count": 12,
   "id": "838fbbac",
   "metadata": {},
   "outputs": [],
   "source": [
    "# Removing extra space in Classes rows\n",
    "\n",
    "df.Classes = df.Classes.str.strip()"
   ]
  },
  {
   "cell_type": "code",
   "execution_count": 13,
   "id": "27ae08b5",
   "metadata": {},
   "outputs": [],
   "source": [
    "# creating date column\n",
    "\n",
    "df['date'] = pd.to_datetime(df[['day', 'month', 'year']])"
   ]
  },
  {
   "cell_type": "code",
   "execution_count": 14,
   "id": "55b57c20",
   "metadata": {},
   "outputs": [],
   "source": [
    "# dropping day month year column\n",
    "\n",
    "df.drop(['day','month', 'year'], axis=1, inplace=True)"
   ]
  },
  {
   "cell_type": "code",
   "execution_count": 16,
   "id": "bae5279d",
   "metadata": {},
   "outputs": [
    {
     "data": {
      "text/html": [
       "<div>\n",
       "<style scoped>\n",
       "    .dataframe tbody tr th:only-of-type {\n",
       "        vertical-align: middle;\n",
       "    }\n",
       "\n",
       "    .dataframe tbody tr th {\n",
       "        vertical-align: top;\n",
       "    }\n",
       "\n",
       "    .dataframe thead th {\n",
       "        text-align: right;\n",
       "    }\n",
       "</style>\n",
       "<table border=\"1\" class=\"dataframe\">\n",
       "  <thead>\n",
       "    <tr style=\"text-align: right;\">\n",
       "      <th></th>\n",
       "      <th>Temperature</th>\n",
       "      <th>RH</th>\n",
       "      <th>Ws</th>\n",
       "      <th>Rain</th>\n",
       "      <th>FFMC</th>\n",
       "      <th>DMC</th>\n",
       "      <th>DC</th>\n",
       "      <th>ISI</th>\n",
       "      <th>BUI</th>\n",
       "      <th>FWI</th>\n",
       "      <th>Classes</th>\n",
       "      <th>date</th>\n",
       "      <th>Region</th>\n",
       "    </tr>\n",
       "  </thead>\n",
       "  <tbody>\n",
       "    <tr>\n",
       "      <th>120</th>\n",
       "      <td>26</td>\n",
       "      <td>80</td>\n",
       "      <td>16</td>\n",
       "      <td>1.8</td>\n",
       "      <td>47.4</td>\n",
       "      <td>2.9</td>\n",
       "      <td>7.7</td>\n",
       "      <td>0.3</td>\n",
       "      <td>3</td>\n",
       "      <td>0.1</td>\n",
       "      <td>not fire</td>\n",
       "      <td>2012-09-29</td>\n",
       "      <td>0.0</td>\n",
       "    </tr>\n",
       "    <tr>\n",
       "      <th>121</th>\n",
       "      <td>25</td>\n",
       "      <td>78</td>\n",
       "      <td>14</td>\n",
       "      <td>1.4</td>\n",
       "      <td>45</td>\n",
       "      <td>1.9</td>\n",
       "      <td>7.5</td>\n",
       "      <td>0.2</td>\n",
       "      <td>2.4</td>\n",
       "      <td>0.1</td>\n",
       "      <td>not fire</td>\n",
       "      <td>2012-09-30</td>\n",
       "      <td>0.0</td>\n",
       "    </tr>\n",
       "    <tr>\n",
       "      <th>124</th>\n",
       "      <td>32</td>\n",
       "      <td>71</td>\n",
       "      <td>12</td>\n",
       "      <td>0.7</td>\n",
       "      <td>57.1</td>\n",
       "      <td>2.5</td>\n",
       "      <td>8.2</td>\n",
       "      <td>0.6</td>\n",
       "      <td>2.8</td>\n",
       "      <td>0.2</td>\n",
       "      <td>not fire</td>\n",
       "      <td>2012-06-01</td>\n",
       "      <td>1.0</td>\n",
       "    </tr>\n",
       "    <tr>\n",
       "      <th>125</th>\n",
       "      <td>30</td>\n",
       "      <td>73</td>\n",
       "      <td>13</td>\n",
       "      <td>4</td>\n",
       "      <td>55.7</td>\n",
       "      <td>2.7</td>\n",
       "      <td>7.8</td>\n",
       "      <td>0.6</td>\n",
       "      <td>2.9</td>\n",
       "      <td>0.2</td>\n",
       "      <td>not fire</td>\n",
       "      <td>2012-06-02</td>\n",
       "      <td>1.0</td>\n",
       "    </tr>\n",
       "    <tr>\n",
       "      <th>126</th>\n",
       "      <td>29</td>\n",
       "      <td>80</td>\n",
       "      <td>14</td>\n",
       "      <td>2</td>\n",
       "      <td>48.7</td>\n",
       "      <td>2.2</td>\n",
       "      <td>7.6</td>\n",
       "      <td>0.3</td>\n",
       "      <td>2.6</td>\n",
       "      <td>0.1</td>\n",
       "      <td>not fire</td>\n",
       "      <td>2012-06-03</td>\n",
       "      <td>1.0</td>\n",
       "    </tr>\n",
       "  </tbody>\n",
       "</table>\n",
       "</div>"
      ],
      "text/plain": [
       "    Temperature  RH  Ws Rain  FFMC  DMC   DC  ISI  BUI  FWI   Classes  \\\n",
       "120          26  80  16  1.8  47.4  2.9  7.7  0.3    3  0.1  not fire   \n",
       "121          25  78  14  1.4    45  1.9  7.5  0.2  2.4  0.1  not fire   \n",
       "124          32  71  12  0.7  57.1  2.5  8.2  0.6  2.8  0.2  not fire   \n",
       "125          30  73  13    4  55.7  2.7  7.8  0.6  2.9  0.2  not fire   \n",
       "126          29  80  14    2  48.7  2.2  7.6  0.3  2.6  0.1  not fire   \n",
       "\n",
       "          date  Region  \n",
       "120 2012-09-29     0.0  \n",
       "121 2012-09-30     0.0  \n",
       "124 2012-06-01     1.0  \n",
       "125 2012-06-02     1.0  \n",
       "126 2012-06-03     1.0  "
      ]
     },
     "execution_count": 16,
     "metadata": {},
     "output_type": "execute_result"
    }
   ],
   "source": [
    "# creating Region column\n",
    "\n",
    "df.loc[:122, 'Region'] = 0\n",
    "df.loc[122:, 'Region'] = 1\n",
    "df.loc[120:].head()"
   ]
  },
  {
   "cell_type": "markdown",
   "id": "01c1e880",
   "metadata": {},
   "source": [
    "## 2.2 Dataset information\n",
    "\n",
    "1. Date : (DD/MM/YYYY) Day, month ('june' to 'september'), year (2012)\n",
    "Weather data observations\n",
    "2. Temp : temperature noon (temperature max) in Celsius degrees: 22 to 42\n",
    "3. RH : Relative Humidity in %: 21 to 90\n",
    "4. Ws :Wind speed in km/h: 6 to 29\n",
    "5. Rain: total day in mm: 0 to 16.8\n",
    "FWI Components\n",
    "6. Fine Fuel Moisture Code (FFMC) index from the FWI system: 28.6 to 92.5\n",
    "7. Duff Moisture Code (DMC) index from the FWI system: 1.1 to 65.9\n",
    "8. Drought Code (DC) index from the FWI system: 7 to 220.4\n",
    "9. Initial Spread Index (ISI) index from the FWI system: 0 to 18.5\n",
    "10. Buildup Index (BUI) index from the FWI system: 1.1 to 68\n",
    "11. Fire Weather Index (FWI) Index: 0 to 31.1\n",
    "12. Classes: two classes, namely fire and not fire"
   ]
  },
  {
   "cell_type": "markdown",
   "id": "ede8b99d",
   "metadata": {},
   "source": [
    "## 3. Data Checks to perform\n",
    "\n",
    "1. Check Missing values\n",
    "2. Check Duplicates\n",
    "3. Check data type\n",
    "4. Check the number of unique values of each column\n",
    "5. Check statistics of data set\n",
    "6. Check various categories present in the different categorical column"
   ]
  },
  {
   "cell_type": "markdown",
   "id": "810e4ce2",
   "metadata": {},
   "source": [
    "### 3.1 Checking missing Values"
   ]
  },
  {
   "cell_type": "code",
   "execution_count": 17,
   "id": "106db2f1",
   "metadata": {},
   "outputs": [
    {
     "data": {
      "text/plain": [
       "Temperature    0\n",
       "RH             0\n",
       "Ws             0\n",
       "Rain           0\n",
       "FFMC           0\n",
       "DMC            0\n",
       "DC             0\n",
       "ISI            0\n",
       "BUI            0\n",
       "FWI            0\n",
       "Classes        1\n",
       "date           0\n",
       "Region         0\n",
       "dtype: int64"
      ]
     },
     "execution_count": 17,
     "metadata": {},
     "output_type": "execute_result"
    }
   ],
   "source": [
    "df.isnull().sum()"
   ]
  },
  {
   "cell_type": "markdown",
   "id": "932897b9",
   "metadata": {},
   "source": [
    "#### we have one missing value in Classes feature"
   ]
  },
  {
   "cell_type": "code",
   "execution_count": 18,
   "id": "4860e98a",
   "metadata": {},
   "outputs": [
    {
     "data": {
      "text/plain": [
       "array(['not fire', 'fire', nan], dtype=object)"
      ]
     },
     "execution_count": 18,
     "metadata": {},
     "output_type": "execute_result"
    }
   ],
   "source": [
    "# we can see that we have missing value in \"Classes\" feature\n",
    "\n",
    "df['Classes'].unique()"
   ]
  },
  {
   "cell_type": "code",
   "execution_count": 19,
   "id": "ef0712fa",
   "metadata": {},
   "outputs": [],
   "source": [
    "### Replace Missing Values with Mode\n",
    "\n",
    "df['Classes'] = df['Classes'].fillna(df['Classes'].mode()[0])"
   ]
  },
  {
   "cell_type": "code",
   "execution_count": 20,
   "id": "ba75fb73",
   "metadata": {},
   "outputs": [
    {
     "data": {
      "text/plain": [
       "Temperature    0\n",
       "RH             0\n",
       "Ws             0\n",
       "Rain           0\n",
       "FFMC           0\n",
       "DMC            0\n",
       "DC             0\n",
       "ISI            0\n",
       "BUI            0\n",
       "FWI            0\n",
       "Classes        0\n",
       "date           0\n",
       "Region         0\n",
       "dtype: int64"
      ]
     },
     "execution_count": 20,
     "metadata": {},
     "output_type": "execute_result"
    }
   ],
   "source": [
    "df.isnull().sum()"
   ]
  },
  {
   "cell_type": "code",
   "execution_count": 21,
   "id": "03d21eab",
   "metadata": {},
   "outputs": [
    {
     "data": {
      "text/html": [
       "<div>\n",
       "<style scoped>\n",
       "    .dataframe tbody tr th:only-of-type {\n",
       "        vertical-align: middle;\n",
       "    }\n",
       "\n",
       "    .dataframe tbody tr th {\n",
       "        vertical-align: top;\n",
       "    }\n",
       "\n",
       "    .dataframe thead th {\n",
       "        text-align: right;\n",
       "    }\n",
       "</style>\n",
       "<table border=\"1\" class=\"dataframe\">\n",
       "  <thead>\n",
       "    <tr style=\"text-align: right;\">\n",
       "      <th></th>\n",
       "      <th>Temperature</th>\n",
       "      <th>RH</th>\n",
       "      <th>Ws</th>\n",
       "      <th>Rain</th>\n",
       "      <th>FFMC</th>\n",
       "      <th>DMC</th>\n",
       "      <th>DC</th>\n",
       "      <th>ISI</th>\n",
       "      <th>BUI</th>\n",
       "      <th>FWI</th>\n",
       "      <th>Classes</th>\n",
       "      <th>date</th>\n",
       "      <th>Region</th>\n",
       "    </tr>\n",
       "  </thead>\n",
       "  <tbody>\n",
       "    <tr>\n",
       "      <th>0</th>\n",
       "      <td>29</td>\n",
       "      <td>57</td>\n",
       "      <td>18</td>\n",
       "      <td>0</td>\n",
       "      <td>65.7</td>\n",
       "      <td>3.4</td>\n",
       "      <td>7.6</td>\n",
       "      <td>1.3</td>\n",
       "      <td>3.4</td>\n",
       "      <td>0.5</td>\n",
       "      <td>not fire</td>\n",
       "      <td>2012-06-01</td>\n",
       "      <td>0.0</td>\n",
       "    </tr>\n",
       "    <tr>\n",
       "      <th>1</th>\n",
       "      <td>29</td>\n",
       "      <td>61</td>\n",
       "      <td>13</td>\n",
       "      <td>1.3</td>\n",
       "      <td>64.4</td>\n",
       "      <td>4.1</td>\n",
       "      <td>7.6</td>\n",
       "      <td>1</td>\n",
       "      <td>3.9</td>\n",
       "      <td>0.4</td>\n",
       "      <td>not fire</td>\n",
       "      <td>2012-06-02</td>\n",
       "      <td>0.0</td>\n",
       "    </tr>\n",
       "    <tr>\n",
       "      <th>2</th>\n",
       "      <td>26</td>\n",
       "      <td>82</td>\n",
       "      <td>22</td>\n",
       "      <td>13.1</td>\n",
       "      <td>47.1</td>\n",
       "      <td>2.5</td>\n",
       "      <td>7.1</td>\n",
       "      <td>0.3</td>\n",
       "      <td>2.7</td>\n",
       "      <td>0.1</td>\n",
       "      <td>not fire</td>\n",
       "      <td>2012-06-03</td>\n",
       "      <td>0.0</td>\n",
       "    </tr>\n",
       "    <tr>\n",
       "      <th>3</th>\n",
       "      <td>25</td>\n",
       "      <td>89</td>\n",
       "      <td>13</td>\n",
       "      <td>2.5</td>\n",
       "      <td>28.6</td>\n",
       "      <td>1.3</td>\n",
       "      <td>6.9</td>\n",
       "      <td>0</td>\n",
       "      <td>1.7</td>\n",
       "      <td>0</td>\n",
       "      <td>not fire</td>\n",
       "      <td>2012-06-04</td>\n",
       "      <td>0.0</td>\n",
       "    </tr>\n",
       "    <tr>\n",
       "      <th>4</th>\n",
       "      <td>27</td>\n",
       "      <td>77</td>\n",
       "      <td>16</td>\n",
       "      <td>0</td>\n",
       "      <td>64.8</td>\n",
       "      <td>3</td>\n",
       "      <td>14.2</td>\n",
       "      <td>1.2</td>\n",
       "      <td>3.9</td>\n",
       "      <td>0.5</td>\n",
       "      <td>not fire</td>\n",
       "      <td>2012-06-05</td>\n",
       "      <td>0.0</td>\n",
       "    </tr>\n",
       "  </tbody>\n",
       "</table>\n",
       "</div>"
      ],
      "text/plain": [
       "  Temperature  RH  Ws  Rain  FFMC  DMC    DC  ISI  BUI  FWI   Classes  \\\n",
       "0          29  57  18     0  65.7  3.4   7.6  1.3  3.4  0.5  not fire   \n",
       "1          29  61  13   1.3  64.4  4.1   7.6    1  3.9  0.4  not fire   \n",
       "2          26  82  22  13.1  47.1  2.5   7.1  0.3  2.7  0.1  not fire   \n",
       "3          25  89  13   2.5  28.6  1.3   6.9    0  1.7    0  not fire   \n",
       "4          27  77  16     0  64.8    3  14.2  1.2  3.9  0.5  not fire   \n",
       "\n",
       "        date  Region  \n",
       "0 2012-06-01     0.0  \n",
       "1 2012-06-02     0.0  \n",
       "2 2012-06-03     0.0  \n",
       "3 2012-06-04     0.0  \n",
       "4 2012-06-05     0.0  "
      ]
     },
     "execution_count": 21,
     "metadata": {},
     "output_type": "execute_result"
    }
   ],
   "source": [
    "df.head()"
   ]
  },
  {
   "cell_type": "code",
   "execution_count": 22,
   "id": "76365f06",
   "metadata": {},
   "outputs": [],
   "source": [
    "# converting output cariable into 0 and 1\n",
    "\n",
    "df['Classes'] = df['Classes'].map({'not fire' : 0, 'fire': 1})"
   ]
  },
  {
   "cell_type": "markdown",
   "id": "bf4a259e",
   "metadata": {},
   "source": [
    "### 3.2 Check Duplicates"
   ]
  },
  {
   "cell_type": "code",
   "execution_count": 26,
   "id": "d747dda2",
   "metadata": {},
   "outputs": [
    {
     "data": {
      "text/plain": [
       "0"
      ]
     },
     "execution_count": 26,
     "metadata": {},
     "output_type": "execute_result"
    }
   ],
   "source": [
    "df.duplicated().sum()"
   ]
  },
  {
   "cell_type": "markdown",
   "id": "18a95f8e",
   "metadata": {},
   "source": [
    "#### No duplicate values in dataset"
   ]
  },
  {
   "cell_type": "markdown",
   "id": "52a8cb41",
   "metadata": {},
   "source": [
    "### 3.3 Check data types"
   ]
  },
  {
   "cell_type": "code",
   "execution_count": 27,
   "id": "0cdfd870",
   "metadata": {},
   "outputs": [
    {
     "data": {
      "text/plain": [
       "Temperature            object\n",
       "RH                     object\n",
       "Ws                     object\n",
       "Rain                   object\n",
       "FFMC                   object\n",
       "DMC                    object\n",
       "DC                     object\n",
       "ISI                    object\n",
       "BUI                    object\n",
       "FWI                    object\n",
       "Classes                 int64\n",
       "date           datetime64[ns]\n",
       "Region                float64\n",
       "dtype: object"
      ]
     },
     "execution_count": 27,
     "metadata": {},
     "output_type": "execute_result"
    }
   ],
   "source": [
    "df.dtypes"
   ]
  },
  {
   "cell_type": "code",
   "execution_count": 28,
   "id": "d34aaedc",
   "metadata": {},
   "outputs": [],
   "source": [
    "# converting datatypes\n",
    "convert_data = {'date' : 'int64', 'Temperature' : 'int64', 'RH': 'int64', 'Ws': 'int64', 'Rain': 'float64', 'FFMC' : 'float64',\n",
    "       'DMC' : 'float64', 'DC' : 'float64', 'ISI': 'float64', 'BUI': 'float64', 'FWI' : 'float64', 'Classes': 'int64', 'Region': 'float64'}\n",
    "\n",
    "df = df.astype(convert_data)"
   ]
  },
  {
   "cell_type": "code",
   "execution_count": 29,
   "id": "d0560e91",
   "metadata": {},
   "outputs": [
    {
     "data": {
      "text/plain": [
       "Temperature      int64\n",
       "RH               int64\n",
       "Ws               int64\n",
       "Rain           float64\n",
       "FFMC           float64\n",
       "DMC            float64\n",
       "DC             float64\n",
       "ISI            float64\n",
       "BUI            float64\n",
       "FWI            float64\n",
       "Classes          int64\n",
       "date             int64\n",
       "Region         float64\n",
       "dtype: object"
      ]
     },
     "execution_count": 29,
     "metadata": {},
     "output_type": "execute_result"
    }
   ],
   "source": [
    "df.dtypes"
   ]
  },
  {
   "cell_type": "markdown",
   "id": "1d384305",
   "metadata": {},
   "source": [
    "### 3.4 Checking the number of unique values of each column"
   ]
  },
  {
   "cell_type": "code",
   "execution_count": 31,
   "id": "f377524d",
   "metadata": {},
   "outputs": [
    {
     "data": {
      "text/plain": [
       "Temperature     19\n",
       "RH              62\n",
       "Ws              18\n",
       "Rain            39\n",
       "FFMC           173\n",
       "DMC            166\n",
       "DC             198\n",
       "ISI            106\n",
       "BUI            174\n",
       "FWI            125\n",
       "Classes          2\n",
       "date           122\n",
       "Region           2\n",
       "dtype: int64"
      ]
     },
     "execution_count": 31,
     "metadata": {},
     "output_type": "execute_result"
    }
   ],
   "source": [
    "df.nunique()"
   ]
  },
  {
   "cell_type": "markdown",
   "id": "72a1979c",
   "metadata": {},
   "source": [
    "### 3.5 Check statistics of data set"
   ]
  },
  {
   "cell_type": "code",
   "execution_count": 32,
   "id": "9594d83d",
   "metadata": {},
   "outputs": [
    {
     "data": {
      "text/html": [
       "<div>\n",
       "<style scoped>\n",
       "    .dataframe tbody tr th:only-of-type {\n",
       "        vertical-align: middle;\n",
       "    }\n",
       "\n",
       "    .dataframe tbody tr th {\n",
       "        vertical-align: top;\n",
       "    }\n",
       "\n",
       "    .dataframe thead th {\n",
       "        text-align: right;\n",
       "    }\n",
       "</style>\n",
       "<table border=\"1\" class=\"dataframe\">\n",
       "  <thead>\n",
       "    <tr style=\"text-align: right;\">\n",
       "      <th></th>\n",
       "      <th>Temperature</th>\n",
       "      <th>RH</th>\n",
       "      <th>Ws</th>\n",
       "      <th>Rain</th>\n",
       "      <th>FFMC</th>\n",
       "      <th>DMC</th>\n",
       "      <th>DC</th>\n",
       "      <th>ISI</th>\n",
       "      <th>BUI</th>\n",
       "      <th>FWI</th>\n",
       "      <th>Classes</th>\n",
       "      <th>date</th>\n",
       "      <th>Region</th>\n",
       "    </tr>\n",
       "  </thead>\n",
       "  <tbody>\n",
       "    <tr>\n",
       "      <th>count</th>\n",
       "      <td>244.000000</td>\n",
       "      <td>244.000000</td>\n",
       "      <td>244.000000</td>\n",
       "      <td>244.000000</td>\n",
       "      <td>244.000000</td>\n",
       "      <td>244.000000</td>\n",
       "      <td>244.000000</td>\n",
       "      <td>244.000000</td>\n",
       "      <td>244.000000</td>\n",
       "      <td>244.000000</td>\n",
       "      <td>244.000000</td>\n",
       "      <td>2.440000e+02</td>\n",
       "      <td>244.000000</td>\n",
       "    </tr>\n",
       "    <tr>\n",
       "      <th>mean</th>\n",
       "      <td>32.172131</td>\n",
       "      <td>61.938525</td>\n",
       "      <td>15.504098</td>\n",
       "      <td>0.760656</td>\n",
       "      <td>77.887705</td>\n",
       "      <td>14.673361</td>\n",
       "      <td>49.288484</td>\n",
       "      <td>4.774180</td>\n",
       "      <td>16.664754</td>\n",
       "      <td>7.006967</td>\n",
       "      <td>0.565574</td>\n",
       "      <td>1.343736e+18</td>\n",
       "      <td>0.500000</td>\n",
       "    </tr>\n",
       "    <tr>\n",
       "      <th>std</th>\n",
       "      <td>3.633843</td>\n",
       "      <td>14.884200</td>\n",
       "      <td>2.810178</td>\n",
       "      <td>1.999406</td>\n",
       "      <td>14.337571</td>\n",
       "      <td>12.368039</td>\n",
       "      <td>47.619393</td>\n",
       "      <td>4.175318</td>\n",
       "      <td>14.204824</td>\n",
       "      <td>7.438505</td>\n",
       "      <td>0.496700</td>\n",
       "      <td>3.049019e+15</td>\n",
       "      <td>0.501028</td>\n",
       "    </tr>\n",
       "    <tr>\n",
       "      <th>min</th>\n",
       "      <td>22.000000</td>\n",
       "      <td>21.000000</td>\n",
       "      <td>6.000000</td>\n",
       "      <td>0.000000</td>\n",
       "      <td>28.600000</td>\n",
       "      <td>0.700000</td>\n",
       "      <td>6.900000</td>\n",
       "      <td>0.000000</td>\n",
       "      <td>1.100000</td>\n",
       "      <td>0.000000</td>\n",
       "      <td>0.000000</td>\n",
       "      <td>1.338509e+18</td>\n",
       "      <td>0.000000</td>\n",
       "    </tr>\n",
       "    <tr>\n",
       "      <th>25%</th>\n",
       "      <td>30.000000</td>\n",
       "      <td>52.000000</td>\n",
       "      <td>14.000000</td>\n",
       "      <td>0.000000</td>\n",
       "      <td>72.075000</td>\n",
       "      <td>5.800000</td>\n",
       "      <td>13.275000</td>\n",
       "      <td>1.400000</td>\n",
       "      <td>6.000000</td>\n",
       "      <td>0.700000</td>\n",
       "      <td>0.000000</td>\n",
       "      <td>1.341101e+18</td>\n",
       "      <td>0.000000</td>\n",
       "    </tr>\n",
       "    <tr>\n",
       "      <th>50%</th>\n",
       "      <td>32.000000</td>\n",
       "      <td>63.000000</td>\n",
       "      <td>15.000000</td>\n",
       "      <td>0.000000</td>\n",
       "      <td>83.500000</td>\n",
       "      <td>11.300000</td>\n",
       "      <td>33.100000</td>\n",
       "      <td>3.500000</td>\n",
       "      <td>12.250000</td>\n",
       "      <td>4.200000</td>\n",
       "      <td>1.000000</td>\n",
       "      <td>1.343736e+18</td>\n",
       "      <td>0.500000</td>\n",
       "    </tr>\n",
       "    <tr>\n",
       "      <th>75%</th>\n",
       "      <td>35.000000</td>\n",
       "      <td>73.250000</td>\n",
       "      <td>17.000000</td>\n",
       "      <td>0.500000</td>\n",
       "      <td>88.300000</td>\n",
       "      <td>20.750000</td>\n",
       "      <td>68.150000</td>\n",
       "      <td>7.300000</td>\n",
       "      <td>22.525000</td>\n",
       "      <td>11.375000</td>\n",
       "      <td>1.000000</td>\n",
       "      <td>1.346371e+18</td>\n",
       "      <td>1.000000</td>\n",
       "    </tr>\n",
       "    <tr>\n",
       "      <th>max</th>\n",
       "      <td>42.000000</td>\n",
       "      <td>90.000000</td>\n",
       "      <td>29.000000</td>\n",
       "      <td>16.800000</td>\n",
       "      <td>96.000000</td>\n",
       "      <td>65.900000</td>\n",
       "      <td>220.400000</td>\n",
       "      <td>19.000000</td>\n",
       "      <td>68.000000</td>\n",
       "      <td>31.100000</td>\n",
       "      <td>1.000000</td>\n",
       "      <td>1.348963e+18</td>\n",
       "      <td>1.000000</td>\n",
       "    </tr>\n",
       "  </tbody>\n",
       "</table>\n",
       "</div>"
      ],
      "text/plain": [
       "       Temperature          RH          Ws        Rain        FFMC  \\\n",
       "count   244.000000  244.000000  244.000000  244.000000  244.000000   \n",
       "mean     32.172131   61.938525   15.504098    0.760656   77.887705   \n",
       "std       3.633843   14.884200    2.810178    1.999406   14.337571   \n",
       "min      22.000000   21.000000    6.000000    0.000000   28.600000   \n",
       "25%      30.000000   52.000000   14.000000    0.000000   72.075000   \n",
       "50%      32.000000   63.000000   15.000000    0.000000   83.500000   \n",
       "75%      35.000000   73.250000   17.000000    0.500000   88.300000   \n",
       "max      42.000000   90.000000   29.000000   16.800000   96.000000   \n",
       "\n",
       "              DMC          DC         ISI         BUI         FWI     Classes  \\\n",
       "count  244.000000  244.000000  244.000000  244.000000  244.000000  244.000000   \n",
       "mean    14.673361   49.288484    4.774180   16.664754    7.006967    0.565574   \n",
       "std     12.368039   47.619393    4.175318   14.204824    7.438505    0.496700   \n",
       "min      0.700000    6.900000    0.000000    1.100000    0.000000    0.000000   \n",
       "25%      5.800000   13.275000    1.400000    6.000000    0.700000    0.000000   \n",
       "50%     11.300000   33.100000    3.500000   12.250000    4.200000    1.000000   \n",
       "75%     20.750000   68.150000    7.300000   22.525000   11.375000    1.000000   \n",
       "max     65.900000  220.400000   19.000000   68.000000   31.100000    1.000000   \n",
       "\n",
       "               date      Region  \n",
       "count  2.440000e+02  244.000000  \n",
       "mean   1.343736e+18    0.500000  \n",
       "std    3.049019e+15    0.501028  \n",
       "min    1.338509e+18    0.000000  \n",
       "25%    1.341101e+18    0.000000  \n",
       "50%    1.343736e+18    0.500000  \n",
       "75%    1.346371e+18    1.000000  \n",
       "max    1.348963e+18    1.000000  "
      ]
     },
     "execution_count": 32,
     "metadata": {},
     "output_type": "execute_result"
    }
   ],
   "source": [
    "df.describe()"
   ]
  },
  {
   "cell_type": "markdown",
   "id": "44b4b100",
   "metadata": {},
   "source": [
    "### Insights\n",
    "\n",
    "1. From the above description of data it is clear clear that maximum temp is 42 degree celsius.\n",
    "2. Minimum rain is 0 mm.\n"
   ]
  },
  {
   "cell_type": "code",
   "execution_count": 34,
   "id": "c5178c1b",
   "metadata": {},
   "outputs": [
    {
     "data": {
      "text/plain": [
       "[]"
      ]
     },
     "execution_count": 34,
     "metadata": {},
     "output_type": "execute_result"
    }
   ],
   "source": [
    "# categorical features\n",
    "categorical_feature=[feature for feature in df.columns if df[feature].dtypes=='O']\n",
    "categorical_feature"
   ]
  },
  {
   "cell_type": "code",
   "execution_count": 35,
   "id": "4003f379",
   "metadata": {},
   "outputs": [],
   "source": [
    "for feature in categorical_feature:\n",
    "    print(df.groupby(feature)['Region'].value_counts())"
   ]
  },
  {
   "cell_type": "code",
   "execution_count": 39,
   "id": "c0cbab2f",
   "metadata": {},
   "outputs": [
    {
     "name": "stdout",
     "output_type": "stream",
     "text": [
      "['Temperature', 'RH', 'Ws', 'Rain', 'FFMC', 'DMC', 'DC', 'ISI', 'BUI', 'FWI', 'Classes', 'date', 'Region']\n"
     ]
    }
   ],
   "source": [
    "#list of numerical features\n",
    "numerical_features=[feature for feature in df.columns if df[feature].dtypes!='O']\n",
    "print(numerical_features)"
   ]
  },
  {
   "cell_type": "markdown",
   "id": "a555464e",
   "metadata": {},
   "source": [
    "## 4. Graphical analysis"
   ]
  },
  {
   "cell_type": "code",
   "execution_count": 37,
   "id": "bfa81ca9",
   "metadata": {},
   "outputs": [
    {
     "data": {
      "text/plain": [
       "<AxesSubplot:xlabel='Classes', ylabel='count'>"
      ]
     },
     "execution_count": 37,
     "metadata": {},
     "output_type": "execute_result"
    },
    {
     "data": {
      "image/png": "[encoded data removed]",
      "text/plain": [
       "<Figure size 432x288 with 1 Axes>"
      ]
     },
     "metadata": {
      "needs_background": "light"
     },
     "output_type": "display_data"
    }
   ],
   "source": [
    "sns.countplot(data=df, x='Classes', hue='Region')"
   ]
  },
  {
   "cell_type": "markdown",
   "id": "6edef143",
   "metadata": {},
   "source": [
    "#### Observation\n",
    "Sidi Bel-abbes region has more occurance of fire than Bejaia region"
   ]
  },
  {
   "cell_type": "code",
   "execution_count": 45,
   "id": "90afeef4",
   "metadata": {},
   "outputs": [
    {
     "data": {
      "text/plain": [
       "<AxesSubplot:xlabel='Rain', ylabel='count'>"
      ]
     },
     "execution_count": 45,
     "metadata": {},
     "output_type": "execute_result"
    },
    {
     "data": {
      "image/png": "[encoded data removed]",
      "text/plain": [
       "<Figure size 864x576 with 1 Axes>"
      ]
     },
     "metadata": {
      "needs_background": "light"
     },
     "output_type": "display_data"
    }
   ],
   "source": [
    "plt.figure(figsize=(12,8))\n",
    "sns.countplot(data = df, x = 'Rain', hue='Classes')"
   ]
  },
  {
   "cell_type": "markdown",
   "id": "fa1a41e8",
   "metadata": {},
   "source": [
    "#### Observation\n",
    "\n",
    "most of the fires occurs when Rain is 0 mm"
   ]
  },
  {
   "cell_type": "code",
   "execution_count": 46,
   "id": "116cc557",
   "metadata": {},
   "outputs": [
    {
     "data": {
      "text/plain": [
       "<AxesSubplot:xlabel='Temperature', ylabel='count'>"
      ]
     },
     "execution_count": 46,
     "metadata": {},
     "output_type": "execute_result"
    },
    {
     "data": {
      "image/png": "[encoded data removed]",
      "text/plain": [
       "<Figure size 864x576 with 1 Axes>"
      ]
     },
     "metadata": {
      "needs_background": "light"
     },
     "output_type": "display_data"
    }
   ],
   "source": [
    "plt.figure(figsize=(12,8))\n",
    "sns.countplot(data = df, x = 'Temperature', hue='Classes')"
   ]
  },
  {
   "cell_type": "markdown",
   "id": "8f454520",
   "metadata": {},
   "source": [
    "#### Observation\n",
    "\n",
    "most of the fires occurs when temperature is between 30 to 37 degree celsius"
   ]
  },
  {
   "cell_type": "code",
   "execution_count": 49,
   "id": "372d7c1f",
   "metadata": {},
   "outputs": [
    {
     "data": {
      "text/plain": [
       "<AxesSubplot:xlabel='Ws', ylabel='count'>"
      ]
     },
     "execution_count": 49,
     "metadata": {},
     "output_type": "execute_result"
    },
    {
     "data": {
      "image/png": "[encoded data removed]",
      "text/plain": [
       "<Figure size 864x576 with 1 Axes>"
      ]
     },
     "metadata": {
      "needs_background": "light"
     },
     "output_type": "display_data"
    }
   ],
   "source": [
    "plt.figure(figsize=(12,8))\n",
    "sns.countplot(data = df, x = 'Ws', hue='Classes')"
   ]
  },
  {
   "cell_type": "markdown",
   "id": "5605d391",
   "metadata": {},
   "source": [
    "#### Observation\n",
    "\n",
    "most of the fires occurs when wind speed  is between 13 to 19 km/h"
   ]
  },
  {
   "cell_type": "code",
   "execution_count": 51,
   "id": "0cb7107d",
   "metadata": {},
   "outputs": [
    {
     "data": {
      "text/plain": [
       "<AxesSubplot:xlabel='RH', ylabel='count'>"
      ]
     },
     "execution_count": 51,
     "metadata": {},
     "output_type": "execute_result"
    },
    {
     "data": {
      "image/png": "[encoded data removed]",
      "text/plain": [
       "<Figure size 1080x576 with 1 Axes>"
      ]
     },
     "metadata": {
      "needs_background": "light"
     },
     "output_type": "display_data"
    }
   ],
   "source": [
    "plt.figure(figsize=(15,8))\n",
    "sns.countplot(data = df, x = 'RH', hue='Classes')"
   ]
  },
  {
   "cell_type": "markdown",
   "id": "d8dcc971",
   "metadata": {},
   "source": [
    "#### Observation\n",
    "\n",
    "Maximum fires occurs when Relative humidity is between 37 to 70 %"
   ]
  },
  {
   "cell_type": "code",
   "execution_count": 52,
   "id": "2c7a5855",
   "metadata": {},
   "outputs": [
    {
     "data": {
      "text/plain": [
       "<AxesSubplot:xlabel='FFMC', ylabel='Count'>"
      ]
     },
     "execution_count": 52,
     "metadata": {},
     "output_type": "execute_result"
    },
    {
     "data": {
      "image/png": "[encoded data removed]",
      "text/plain": [
       "<Figure size 432x288 with 1 Axes>"
      ]
     },
     "metadata": {
      "needs_background": "light"
     },
     "output_type": "display_data"
    }
   ],
   "source": [
    "sns.histplot(data=df,x='FFMC',kde=True,hue='Classes')"
   ]
  },
  {
   "cell_type": "markdown",
   "id": "32ffd569",
   "metadata": {},
   "source": [
    "#### Observation\n",
    "\n",
    "Based on the distribution we can see that most of the fires occurs when FFMC is between 80 to 90"
   ]
  },
  {
   "cell_type": "code",
   "execution_count": 53,
   "id": "15aeca16",
   "metadata": {},
   "outputs": [
    {
     "data": {
      "text/plain": [
       "<AxesSubplot:xlabel='DMC', ylabel='Count'>"
      ]
     },
     "execution_count": 53,
     "metadata": {},
     "output_type": "execute_result"
    },
    {
     "data": {
      "image/png": "[encoded data removed]",
      "text/plain": [
       "<Figure size 432x288 with 1 Axes>"
      ]
     },
     "metadata": {
      "needs_background": "light"
     },
     "output_type": "display_data"
    }
   ],
   "source": [
    "sns.histplot(data=df,x='DMC',kde=True,hue='Classes')"
   ]
  },
  {
   "cell_type": "markdown",
   "id": "0ca13037",
   "metadata": {},
   "source": [
    "#### Observation\n",
    "\n",
    "Based on the distribution we can see that most of the fires occurs when DMC is between 10 to 30"
   ]
  },
  {
   "cell_type": "code",
   "execution_count": 54,
   "id": "9c5ef3c2",
   "metadata": {},
   "outputs": [
    {
     "data": {
      "text/plain": [
       "<AxesSubplot:xlabel='DC', ylabel='Count'>"
      ]
     },
     "execution_count": 54,
     "metadata": {},
     "output_type": "execute_result"
    },
    {
     "data": {
      "image/png": "[encoded data removed]",
      "text/plain": [
       "<Figure size 432x288 with 1 Axes>"
      ]
     },
     "metadata": {
      "needs_background": "light"
     },
     "output_type": "display_data"
    }
   ],
   "source": [
    "sns.histplot(data=df,x='DC',kde=True,hue='Classes')"
   ]
  },
  {
   "cell_type": "markdown",
   "id": "27a6f944",
   "metadata": {},
   "source": [
    "#### Observation\n",
    "\n",
    "Based on the distribution we can see that fires occurs when DC is above 25"
   ]
  },
  {
   "cell_type": "code",
   "execution_count": 55,
   "id": "eca11fc2",
   "metadata": {},
   "outputs": [
    {
     "data": {
      "text/plain": [
       "<AxesSubplot:xlabel='ISI', ylabel='Count'>"
      ]
     },
     "execution_count": 55,
     "metadata": {},
     "output_type": "execute_result"
    },
    {
     "data": {
      "image/png": "[encoded data removed]",
      "text/plain": [
       "<Figure size 432x288 with 1 Axes>"
      ]
     },
     "metadata": {
      "needs_background": "light"
     },
     "output_type": "display_data"
    }
   ],
   "source": [
    "sns.histplot(data=df,x='ISI',kde=True,hue='Classes')"
   ]
  },
  {
   "cell_type": "markdown",
   "id": "eaa3f6bc",
   "metadata": {},
   "source": [
    "#### observation\n",
    "\n",
    "Fires occurs when ISI is above 2.5 and below 10"
   ]
  },
  {
   "cell_type": "code",
   "execution_count": 56,
   "id": "cb4c7398",
   "metadata": {},
   "outputs": [
    {
     "data": {
      "text/plain": [
       "<AxesSubplot:xlabel='BUI', ylabel='Count'>"
      ]
     },
     "execution_count": 56,
     "metadata": {},
     "output_type": "execute_result"
    },
    {
     "data": {
      "image/png": "[encoded data removed]",
      "text/plain": [
       "<Figure size 432x288 with 1 Axes>"
      ]
     },
     "metadata": {
      "needs_background": "light"
     },
     "output_type": "display_data"
    }
   ],
   "source": [
    "sns.histplot(data=df,x='BUI',kde=True,hue='Classes')"
   ]
  },
  {
   "cell_type": "markdown",
   "id": "b3e71732",
   "metadata": {},
   "source": [
    "#### Observation\n",
    "\n",
    "Most of the fires occurs when BUI is between 10 and 40"
   ]
  },
  {
   "cell_type": "code",
   "execution_count": 57,
   "id": "c1b70638",
   "metadata": {},
   "outputs": [
    {
     "data": {
      "text/plain": [
       "<AxesSubplot:xlabel='FWI', ylabel='Count'>"
      ]
     },
     "execution_count": 57,
     "metadata": {},
     "output_type": "execute_result"
    },
    {
     "data": {
      "image/png": "[encoded data removed]",
      "text/plain": [
       "<Figure size 432x288 with 1 Axes>"
      ]
     },
     "metadata": {
      "needs_background": "light"
     },
     "output_type": "display_data"
    }
   ],
   "source": [
    "sns.histplot(data=df,x='FWI',kde=True,hue='Classes')"
   ]
  },
  {
   "cell_type": "markdown",
   "id": "7c20799e",
   "metadata": {},
   "source": [
    "#### Observation\n",
    "\n",
    "Most of the fires occurs when BUI is between 5 and 25"
   ]
  },
  {
   "cell_type": "markdown",
   "id": "9ee903ea",
   "metadata": {},
   "source": [
    "## Outlier handling\n",
    "\n",
    "### Rain outliers"
   ]
  },
  {
   "cell_type": "code",
   "execution_count": 74,
   "id": "84208868",
   "metadata": {},
   "outputs": [
    {
     "data": {
      "text/plain": [
       "Text(0.5, 1.0, 'Boxplot')"
      ]
     },
     "execution_count": 74,
     "metadata": {},
     "output_type": "execute_result"
    },
    {
     "data": {
      "image/png": "[encoded data removed]",
      "text/plain": [
       "<Figure size 216x432 with 1 Axes>"
      ]
     },
     "metadata": {
      "needs_background": "light"
     },
     "output_type": "display_data"
    }
   ],
   "source": [
    "plt.figure(figsize=(3,6))\n",
    "sns.boxplot(y=df['Rain'])\n",
    "plt.title('Boxplot')"
   ]
  },
  {
   "cell_type": "code",
   "execution_count": 75,
   "id": "cb255f1a",
   "metadata": {},
   "outputs": [],
   "source": [
    "def find_boundaries(df, variable, distance):\n",
    "    IQR = df[variable].quantile(0.75) - df[variable].quantile(0.25)\n",
    "    lower_boundary = df[variable].quantile(0.25) - (IQR*distance)\n",
    "    upper_boundary = df[variable].quantile(0.75) + (IQR*distance)\n",
    "    return upper_boundary, lower_boundary"
   ]
  },
  {
   "cell_type": "code",
   "execution_count": 76,
   "id": "59af21ff",
   "metadata": {},
   "outputs": [
    {
     "data": {
      "text/plain": [
       "(1.25, -0.75)"
      ]
     },
     "execution_count": 76,
     "metadata": {},
     "output_type": "execute_result"
    }
   ],
   "source": [
    "upper_boundary, lower_boundary = find_boundaries(df, 'Rain', 1.5)\n",
    "upper_boundary, lower_boundary"
   ]
  },
  {
   "cell_type": "code",
   "execution_count": 79,
   "id": "ba8a0695",
   "metadata": {},
   "outputs": [],
   "source": [
    "outliers = np.where(df['Rain'] > upper_boundary, True, np.where(df['Rain'] < lower_boundary, True, False))"
   ]
  },
  {
   "cell_type": "code",
   "execution_count": 81,
   "id": "61ddc0c2",
   "metadata": {},
   "outputs": [
    {
     "data": {
      "text/plain": [
       "1      1.3\n",
       "2     13.1\n",
       "3      2.5\n",
       "14     3.1\n",
       "38     1.4\n",
       "Name: Rain, dtype: float64"
      ]
     },
     "execution_count": 81,
     "metadata": {},
     "output_type": "execute_result"
    }
   ],
   "source": [
    "outliers_df = df.loc[outliers, 'Rain']\n",
    "outliers_df.head()"
   ]
  },
  {
   "cell_type": "markdown",
   "id": "9b955b9a",
   "metadata": {},
   "source": [
    "#### remove the outliers from the dataset"
   ]
  },
  {
   "cell_type": "code",
   "execution_count": 84,
   "id": "23990d80",
   "metadata": {},
   "outputs": [],
   "source": [
    "df_trimed= df.loc[~outliers, 'Rain']"
   ]
  },
  {
   "cell_type": "code",
   "execution_count": 86,
   "id": "771fb6ab",
   "metadata": {},
   "outputs": [
    {
     "data": {
      "text/plain": [
       "0      0.0\n",
       "4      0.0\n",
       "5      0.0\n",
       "6      0.0\n",
       "7      0.0\n",
       "      ... \n",
       "240    0.0\n",
       "241    0.0\n",
       "243    0.5\n",
       "244    0.1\n",
       "245    0.2\n",
       "Name: Rain, Length: 209, dtype: float64"
      ]
     },
     "execution_count": 86,
     "metadata": {},
     "output_type": "execute_result"
    }
   ],
   "source": [
    "df_trimed"
   ]
  },
  {
   "cell_type": "code",
   "execution_count": 88,
   "id": "d1c5e0ac",
   "metadata": {},
   "outputs": [],
   "source": [
    "df['Rain'] = df_trimed"
   ]
  },
  {
   "cell_type": "code",
   "execution_count": 90,
   "id": "6d25c241",
   "metadata": {},
   "outputs": [
    {
     "data": {
      "text/plain": [
       "Text(0.5, 1.0, 'Boxplot')"
      ]
     },
     "execution_count": 90,
     "metadata": {},
     "output_type": "execute_result"
    },
    {
     "data": {
      "image/png": "[encoded data removed]",
      "text/plain": [
       "<Figure size 216x432 with 1 Axes>"
      ]
     },
     "metadata": {
      "needs_background": "light"
     },
     "output_type": "display_data"
    }
   ],
   "source": [
    "plt.figure(figsize=(3,6))\n",
    "sns.boxplot(y=df['Rain'])\n",
    "plt.title('Boxplot')"
   ]
  },
  {
   "cell_type": "markdown",
   "id": "373a7d22",
   "metadata": {},
   "source": [
    "#### After trimming outliers"
   ]
  },
  {
   "cell_type": "markdown",
   "id": "a46236e0",
   "metadata": {},
   "source": [
    "### BUI Outliers"
   ]
  },
  {
   "cell_type": "code",
   "execution_count": 91,
   "id": "77f56646",
   "metadata": {},
   "outputs": [
    {
     "data": {
      "text/plain": [
       "Text(0.5, 1.0, 'Boxplot')"
      ]
     },
     "execution_count": 91,
     "metadata": {},
     "output_type": "execute_result"
    },
    {
     "data": {
      "image/png": "[encoded data removed]",
      "text/plain": [
       "<Figure size 216x432 with 1 Axes>"
      ]
     },
     "metadata": {
      "needs_background": "light"
     },
     "output_type": "display_data"
    }
   ],
   "source": [
    "plt.figure(figsize=(3,6))\n",
    "sns.boxplot(y=df['BUI'])\n",
    "plt.title('Boxplot')"
   ]
  },
  {
   "cell_type": "code",
   "execution_count": 92,
   "id": "c1a467f5",
   "metadata": {},
   "outputs": [
    {
     "data": {
      "text/plain": [
       "(47.3125, -18.787499999999998)"
      ]
     },
     "execution_count": 92,
     "metadata": {},
     "output_type": "execute_result"
    }
   ],
   "source": [
    "# upper and lower boundary\n",
    "\n",
    "upper_boundary, lower_boundary = find_boundaries(df, 'BUI', 1.5)\n",
    "upper_boundary, lower_boundary"
   ]
  },
  {
   "cell_type": "code",
   "execution_count": 93,
   "id": "8b190df1",
   "metadata": {},
   "outputs": [],
   "source": [
    "outliers = np.where(df['BUI'] > upper_boundary, True, np.where(df['BUI'] < lower_boundary, True, False))"
   ]
  },
  {
   "cell_type": "code",
   "execution_count": 94,
   "id": "61a287f8",
   "metadata": {},
   "outputs": [
    {
     "data": {
      "text/plain": [
       "83    47.5\n",
       "84    50.9\n",
       "85    54.7\n",
       "86    57.1\n",
       "87    59.3\n",
       "Name: BUI, dtype: float64"
      ]
     },
     "execution_count": 94,
     "metadata": {},
     "output_type": "execute_result"
    }
   ],
   "source": [
    "outliers_df = df.loc[outliers, 'BUI']\n",
    "outliers_df.head()"
   ]
  },
  {
   "cell_type": "markdown",
   "id": "402f09a7",
   "metadata": {},
   "source": [
    "#### remove the outliers from the dataset"
   ]
  },
  {
   "cell_type": "code",
   "execution_count": 95,
   "id": "172bdf85",
   "metadata": {},
   "outputs": [
    {
     "data": {
      "text/plain": [
       "0    3.4\n",
       "1    3.9\n",
       "2    2.7\n",
       "3    1.7\n",
       "4    3.9\n",
       "Name: BUI, dtype: float64"
      ]
     },
     "execution_count": 95,
     "metadata": {},
     "output_type": "execute_result"
    }
   ],
   "source": [
    "df_trimed= df.loc[~outliers, 'BUI']\n",
    "df_trimed.head()"
   ]
  },
  {
   "cell_type": "code",
   "execution_count": 96,
   "id": "cefe9ecb",
   "metadata": {},
   "outputs": [],
   "source": [
    "df['BUI'] = df_trimed"
   ]
  },
  {
   "cell_type": "code",
   "execution_count": 97,
   "id": "51d79c73",
   "metadata": {},
   "outputs": [
    {
     "data": {
      "text/plain": [
       "Text(0.5, 1.0, 'Boxplot')"
      ]
     },
     "execution_count": 97,
     "metadata": {},
     "output_type": "execute_result"
    },
    {
     "data": {
      "image/png": "[encoded data removed]",
      "text/plain": [
       "<Figure size 216x432 with 1 Axes>"
      ]
     },
     "metadata": {
      "needs_background": "light"
     },
     "output_type": "display_data"
    }
   ],
   "source": [
    "plt.figure(figsize=(3,6))\n",
    "sns.boxplot(y=df['BUI'])\n",
    "plt.title('Boxplot')"
   ]
  },
  {
   "cell_type": "markdown",
   "id": "f784e949",
   "metadata": {},
   "source": [
    "#### After trimming the outliers"
   ]
  },
  {
   "cell_type": "markdown",
   "id": "befeed91",
   "metadata": {},
   "source": [
    "### Ws outliers"
   ]
  },
  {
   "cell_type": "code",
   "execution_count": 101,
   "id": "4560ff45",
   "metadata": {},
   "outputs": [
    {
     "data": {
      "text/plain": [
       "Text(0.5, 1.0, 'Boxplot')"
      ]
     },
     "execution_count": 101,
     "metadata": {},
     "output_type": "execute_result"
    },
    {
     "data": {
      "image/png": "[encoded data removed]",
      "text/plain": [
       "<Figure size 216x432 with 1 Axes>"
      ]
     },
     "metadata": {
      "needs_background": "light"
     },
     "output_type": "display_data"
    }
   ],
   "source": [
    "plt.figure(figsize=(3,6))\n",
    "sns.boxplot(y=df['Ws'])\n",
    "plt.title('Boxplot')"
   ]
  },
  {
   "cell_type": "code",
   "execution_count": 102,
   "id": "993e9d3f",
   "metadata": {},
   "outputs": [
    {
     "data": {
      "text/plain": [
       "(21.5, 9.5)"
      ]
     },
     "execution_count": 102,
     "metadata": {},
     "output_type": "execute_result"
    }
   ],
   "source": [
    "# upper and lower boundary\n",
    "\n",
    "upper_boundary, lower_boundary = find_boundaries(df, 'Ws', 1.5)\n",
    "upper_boundary, lower_boundary"
   ]
  },
  {
   "cell_type": "code",
   "execution_count": 103,
   "id": "2c98f3a1",
   "metadata": {},
   "outputs": [],
   "source": [
    "outliers = np.where(df['Ws'] > upper_boundary, True, np.where(df['Ws'] < lower_boundary, True, False))"
   ]
  },
  {
   "cell_type": "code",
   "execution_count": 104,
   "id": "eba23a8d",
   "metadata": {},
   "outputs": [
    {
     "data": {
      "text/plain": [
       "2      22\n",
       "52     22\n",
       "105    26\n",
       "178     9\n",
       "201     9\n",
       "Name: Ws, dtype: int64"
      ]
     },
     "execution_count": 104,
     "metadata": {},
     "output_type": "execute_result"
    }
   ],
   "source": [
    "outliers_df = df.loc[outliers, 'Ws']\n",
    "outliers_df.head()"
   ]
  },
  {
   "cell_type": "markdown",
   "id": "de18a28b",
   "metadata": {},
   "source": [
    "#### remove the outliers from the Ws"
   ]
  },
  {
   "cell_type": "code",
   "execution_count": 105,
   "id": "44f17ada",
   "metadata": {},
   "outputs": [
    {
     "data": {
      "text/plain": [
       "0    18\n",
       "1    13\n",
       "3    13\n",
       "4    16\n",
       "5    14\n",
       "Name: Ws, dtype: int64"
      ]
     },
     "execution_count": 105,
     "metadata": {},
     "output_type": "execute_result"
    }
   ],
   "source": [
    "df_trimed= df.loc[~outliers, 'Ws']\n",
    "df_trimed.head()"
   ]
  },
  {
   "cell_type": "code",
   "execution_count": 106,
   "id": "32d07784",
   "metadata": {},
   "outputs": [],
   "source": [
    "df['Ws'] = df_trimed"
   ]
  },
  {
   "cell_type": "code",
   "execution_count": 107,
   "id": "5b7584c7",
   "metadata": {},
   "outputs": [
    {
     "data": {
      "text/plain": [
       "Text(0.5, 1.0, 'Boxplot')"
      ]
     },
     "execution_count": 107,
     "metadata": {},
     "output_type": "execute_result"
    },
    {
     "data": {
      "image/png": "[encoded data removed]",
      "text/plain": [
       "<Figure size 216x432 with 1 Axes>"
      ]
     },
     "metadata": {
      "needs_background": "light"
     },
     "output_type": "display_data"
    }
   ],
   "source": [
    "plt.figure(figsize=(3,6))\n",
    "sns.boxplot(y=df['Ws'])\n",
    "plt.title('Boxplot')"
   ]
  },
  {
   "cell_type": "markdown",
   "id": "607266c2",
   "metadata": {},
   "source": [
    "#### After trimming the outliers"
   ]
  },
  {
   "cell_type": "markdown",
   "id": "4cca53a8",
   "metadata": {},
   "source": [
    "### FFMC outliers"
   ]
  },
  {
   "cell_type": "code",
   "execution_count": 109,
   "id": "bc9b57bb",
   "metadata": {},
   "outputs": [
    {
     "data": {
      "text/plain": [
       "Text(0.5, 1.0, 'Boxplot')"
      ]
     },
     "execution_count": 109,
     "metadata": {},
     "output_type": "execute_result"
    },
    {
     "data": {
      "image/png": "[encoded data removed]",
      "text/plain": [
       "<Figure size 216x432 with 1 Axes>"
      ]
     },
     "metadata": {
      "needs_background": "light"
     },
     "output_type": "display_data"
    }
   ],
   "source": [
    "plt.figure(figsize=(3,6))\n",
    "sns.boxplot(y=df['FFMC'])\n",
    "plt.title('Boxplot')"
   ]
  },
  {
   "cell_type": "code",
   "execution_count": 110,
   "id": "a603ef4c",
   "metadata": {},
   "outputs": [
    {
     "data": {
      "text/plain": [
       "(112.63749999999999, 47.73750000000001)"
      ]
     },
     "execution_count": 110,
     "metadata": {},
     "output_type": "execute_result"
    }
   ],
   "source": [
    "# upper and lower boundary\n",
    "\n",
    "upper_boundary, lower_boundary = find_boundaries(df, 'FFMC', 1.5)\n",
    "upper_boundary, lower_boundary"
   ]
  },
  {
   "cell_type": "code",
   "execution_count": 112,
   "id": "182b9796",
   "metadata": {},
   "outputs": [],
   "source": [
    "# Outliers\n",
    "\n",
    "outliers = np.where(df['FFMC'] > upper_boundary, True, np.where(df['FFMC'] < lower_boundary, True, False))"
   ]
  },
  {
   "cell_type": "code",
   "execution_count": 113,
   "id": "5a775af3",
   "metadata": {},
   "outputs": [
    {
     "data": {
      "text/plain": [
       "2     47.1\n",
       "3     28.6\n",
       "15    36.1\n",
       "16    37.3\n",
       "92    46.0\n",
       "Name: FFMC, dtype: float64"
      ]
     },
     "execution_count": 113,
     "metadata": {},
     "output_type": "execute_result"
    }
   ],
   "source": [
    "outliers_df = df.loc[outliers, 'FFMC']\n",
    "outliers_df.head()"
   ]
  },
  {
   "cell_type": "markdown",
   "id": "2442135f",
   "metadata": {},
   "source": [
    "#### remove the outliers from the FFMC"
   ]
  },
  {
   "cell_type": "code",
   "execution_count": 114,
   "id": "995248ba",
   "metadata": {},
   "outputs": [
    {
     "data": {
      "text/plain": [
       "0    65.7\n",
       "1    64.4\n",
       "4    64.8\n",
       "5    82.6\n",
       "6    88.2\n",
       "Name: FFMC, dtype: float64"
      ]
     },
     "execution_count": 114,
     "metadata": {},
     "output_type": "execute_result"
    }
   ],
   "source": [
    "df_trimed= df.loc[~outliers, 'FFMC']\n",
    "df_trimed.head()"
   ]
  },
  {
   "cell_type": "code",
   "execution_count": 115,
   "id": "d339db8c",
   "metadata": {},
   "outputs": [],
   "source": [
    "df['FFMC'] = df_trimed"
   ]
  },
  {
   "cell_type": "code",
   "execution_count": 116,
   "id": "b48f399d",
   "metadata": {},
   "outputs": [
    {
     "data": {
      "text/plain": [
       "Text(0.5, 1.0, 'Boxplot')"
      ]
     },
     "execution_count": 116,
     "metadata": {},
     "output_type": "execute_result"
    },
    {
     "data": {
      "image/png": "[encoded data removed]",
      "text/plain": [
       "<Figure size 216x432 with 1 Axes>"
      ]
     },
     "metadata": {
      "needs_background": "light"
     },
     "output_type": "display_data"
    }
   ],
   "source": [
    "plt.figure(figsize=(3,6))\n",
    "sns.boxplot(y=df['FFMC'])\n",
    "plt.title('Boxplot')"
   ]
  },
  {
   "cell_type": "markdown",
   "id": "f113b57e",
   "metadata": {},
   "source": [
    "### DMC Outliers"
   ]
  },
  {
   "cell_type": "code",
   "execution_count": 118,
   "id": "89a8bfa3",
   "metadata": {},
   "outputs": [
    {
     "data": {
      "text/plain": [
       "Text(0.5, 1.0, 'Boxplot')"
      ]
     },
     "execution_count": 118,
     "metadata": {},
     "output_type": "execute_result"
    },
    {
     "data": {
      "image/png": "[encoded data removed]",
      "text/plain": [
       "<Figure size 216x432 with 1 Axes>"
      ]
     },
     "metadata": {
      "needs_background": "light"
     },
     "output_type": "display_data"
    }
   ],
   "source": [
    "plt.figure(figsize=(3,6))\n",
    "sns.boxplot(y=df['DMC'])\n",
    "plt.title('Boxplot')"
   ]
  },
  {
   "cell_type": "code",
   "execution_count": 119,
   "id": "c471a279",
   "metadata": {},
   "outputs": [
    {
     "data": {
      "text/plain": [
       "(43.175, -16.624999999999996)"
      ]
     },
     "execution_count": 119,
     "metadata": {},
     "output_type": "execute_result"
    }
   ],
   "source": [
    "# upper and lower boundary\n",
    "\n",
    "upper_boundary, lower_boundary = find_boundaries(df, 'DMC', 1.5)\n",
    "upper_boundary, lower_boundary"
   ]
  },
  {
   "cell_type": "code",
   "execution_count": 120,
   "id": "bee431f3",
   "metadata": {},
   "outputs": [],
   "source": [
    "# Outliers\n",
    "\n",
    "outliers = np.where(df['DMC'] > upper_boundary, True, np.where(df['DMC'] < lower_boundary, True, False))"
   ]
  },
  {
   "cell_type": "code",
   "execution_count": 122,
   "id": "166765b0",
   "metadata": {},
   "outputs": [
    {
     "data": {
      "text/plain": [
       "85    43.9\n",
       "86    45.6\n",
       "87    47.0\n",
       "88    50.2\n",
       "89    54.2\n",
       "Name: DMC, dtype: float64"
      ]
     },
     "execution_count": 122,
     "metadata": {},
     "output_type": "execute_result"
    }
   ],
   "source": [
    "outliers_df = df.loc[outliers, 'DMC']\n",
    "outliers_df.head()"
   ]
  },
  {
   "cell_type": "markdown",
   "id": "297ad64b",
   "metadata": {},
   "source": [
    "#### remove the outliers from the DMC"
   ]
  },
  {
   "cell_type": "code",
   "execution_count": 123,
   "id": "540d0064",
   "metadata": {},
   "outputs": [
    {
     "data": {
      "text/plain": [
       "0    3.4\n",
       "1    4.1\n",
       "2    2.5\n",
       "3    1.3\n",
       "4    3.0\n",
       "Name: DMC, dtype: float64"
      ]
     },
     "execution_count": 123,
     "metadata": {},
     "output_type": "execute_result"
    }
   ],
   "source": [
    "df_trimed= df.loc[~outliers, 'DMC']\n",
    "df_trimed.head()"
   ]
  },
  {
   "cell_type": "code",
   "execution_count": 124,
   "id": "b02e9545",
   "metadata": {},
   "outputs": [],
   "source": [
    "df['DMC'] = df_trimed"
   ]
  },
  {
   "cell_type": "code",
   "execution_count": 125,
   "id": "bc7b6f6d",
   "metadata": {},
   "outputs": [
    {
     "data": {
      "text/plain": [
       "Text(0.5, 1.0, 'Boxplot')"
      ]
     },
     "execution_count": 125,
     "metadata": {},
     "output_type": "execute_result"
    },
    {
     "data": {
      "image/png": "[encoded data removed]",
      "text/plain": [
       "<Figure size 216x432 with 1 Axes>"
      ]
     },
     "metadata": {
      "needs_background": "light"
     },
     "output_type": "display_data"
    }
   ],
   "source": [
    "plt.figure(figsize=(3,6))\n",
    "sns.boxplot(y=df['DMC'])\n",
    "plt.title('Boxplot')"
   ]
  },
  {
   "cell_type": "code",
   "execution_count": 126,
   "id": "48202e63",
   "metadata": {},
   "outputs": [
    {
     "data": {
      "text/plain": [
       "Index(['Temperature', 'RH', 'Ws', 'Rain', 'FFMC', 'DMC', 'DC', 'ISI', 'BUI',\n",
       "       'FWI', 'Classes', 'date', 'Region'],\n",
       "      dtype='object')"
      ]
     },
     "execution_count": 126,
     "metadata": {},
     "output_type": "execute_result"
    }
   ],
   "source": [
    "df.columns"
   ]
  },
  {
   "cell_type": "markdown",
   "id": "7a28c099",
   "metadata": {},
   "source": [
    "### DC Outliers"
   ]
  },
  {
   "cell_type": "code",
   "execution_count": 127,
   "id": "500df132",
   "metadata": {},
   "outputs": [
    {
     "data": {
      "text/plain": [
       "Text(0.5, 1.0, 'Boxplot')"
      ]
     },
     "execution_count": 127,
     "metadata": {},
     "output_type": "execute_result"
    },
    {
     "data": {
      "image/png": "[encoded data removed]",
      "text/plain": [
       "<Figure size 216x432 with 1 Axes>"
      ]
     },
     "metadata": {
      "needs_background": "light"
     },
     "output_type": "display_data"
    }
   ],
   "source": [
    "plt.figure(figsize=(3,6))\n",
    "sns.boxplot(y=df['DC'])\n",
    "plt.title('Boxplot')"
   ]
  },
  {
   "cell_type": "code",
   "execution_count": 128,
   "id": "4d8680a0",
   "metadata": {},
   "outputs": [
    {
     "data": {
      "text/plain": [
       "(150.46250000000003, -69.03750000000002)"
      ]
     },
     "execution_count": 128,
     "metadata": {},
     "output_type": "execute_result"
    }
   ],
   "source": [
    "# upper and lower boundary\n",
    "\n",
    "upper_boundary, lower_boundary = find_boundaries(df, 'DC', 1.5)\n",
    "upper_boundary, lower_boundary"
   ]
  },
  {
   "cell_type": "code",
   "execution_count": 129,
   "id": "d93b1ddf",
   "metadata": {},
   "outputs": [],
   "source": [
    "# Outliers\n",
    "\n",
    "outliers = np.where(df['DC'] > upper_boundary, True, np.where(df['DC'] < lower_boundary, True, False))"
   ]
  },
  {
   "cell_type": "code",
   "execution_count": 130,
   "id": "dc5fe576",
   "metadata": {},
   "outputs": [
    {
     "data": {
      "text/plain": [
       "82    151.3\n",
       "83    161.5\n",
       "84    171.3\n",
       "85    181.3\n",
       "86    190.6\n",
       "Name: DC, dtype: float64"
      ]
     },
     "execution_count": 130,
     "metadata": {},
     "output_type": "execute_result"
    }
   ],
   "source": [
    "outliers_df = df.loc[outliers, 'DC']\n",
    "outliers_df.head()"
   ]
  },
  {
   "cell_type": "markdown",
   "id": "585a631f",
   "metadata": {},
   "source": [
    "#### remove the outliers from the DC"
   ]
  },
  {
   "cell_type": "code",
   "execution_count": 131,
   "id": "a5dad5a8",
   "metadata": {},
   "outputs": [
    {
     "data": {
      "text/plain": [
       "0     7.6\n",
       "1     7.6\n",
       "2     7.1\n",
       "3     6.9\n",
       "4    14.2\n",
       "Name: DC, dtype: float64"
      ]
     },
     "execution_count": 131,
     "metadata": {},
     "output_type": "execute_result"
    }
   ],
   "source": [
    "df_trimed= df.loc[~outliers, 'DC']\n",
    "df_trimed.head()"
   ]
  },
  {
   "cell_type": "code",
   "execution_count": 132,
   "id": "1c7ee5fc",
   "metadata": {},
   "outputs": [],
   "source": [
    "df['DC'] = df_trimed"
   ]
  },
  {
   "cell_type": "code",
   "execution_count": 133,
   "id": "684c009d",
   "metadata": {},
   "outputs": [
    {
     "data": {
      "text/plain": [
       "Text(0.5, 1.0, 'Boxplot')"
      ]
     },
     "execution_count": 133,
     "metadata": {},
     "output_type": "execute_result"
    },
    {
     "data": {
      "image/png": "[encoded data removed]",
      "text/plain": [
       "<Figure size 216x432 with 1 Axes>"
      ]
     },
     "metadata": {
      "needs_background": "light"
     },
     "output_type": "display_data"
    }
   ],
   "source": [
    "plt.figure(figsize=(3,6))\n",
    "sns.boxplot(y=df['DC'])\n",
    "plt.title('Boxplot')"
   ]
  },
  {
   "cell_type": "markdown",
   "id": "d5c187dd",
   "metadata": {},
   "source": [
    "### ISI Outliers"
   ]
  },
  {
   "cell_type": "code",
   "execution_count": 134,
   "id": "d6ff6efd",
   "metadata": {},
   "outputs": [
    {
     "data": {
      "text/plain": [
       "Text(0.5, 1.0, 'Boxplot')"
      ]
     },
     "execution_count": 134,
     "metadata": {},
     "output_type": "execute_result"
    },
    {
     "data": {
      "image/png": "[encoded data removed]",
      "text/plain": [
       "<Figure size 216x432 with 1 Axes>"
      ]
     },
     "metadata": {
      "needs_background": "light"
     },
     "output_type": "display_data"
    }
   ],
   "source": [
    "plt.figure(figsize=(3,6))\n",
    "sns.boxplot(y=df['ISI'])\n",
    "plt.title('Boxplot')"
   ]
  },
  {
   "cell_type": "code",
   "execution_count": 135,
   "id": "0fb04b9d",
   "metadata": {},
   "outputs": [
    {
     "data": {
      "text/plain": [
       "(16.150000000000002, -7.450000000000001)"
      ]
     },
     "execution_count": 135,
     "metadata": {},
     "output_type": "execute_result"
    }
   ],
   "source": [
    "# upper and lower boundary\n",
    "\n",
    "upper_boundary, lower_boundary = find_boundaries(df, 'ISI', 1.5)\n",
    "upper_boundary, lower_boundary"
   ]
  },
  {
   "cell_type": "code",
   "execution_count": 136,
   "id": "f8fb1e40",
   "metadata": {},
   "outputs": [],
   "source": [
    "# Outliers\n",
    "\n",
    "outliers = np.where(df['ISI'] > upper_boundary, True, np.where(df['ISI'] < lower_boundary, True, False))"
   ]
  },
  {
   "cell_type": "code",
   "execution_count": 137,
   "id": "6f9308dd",
   "metadata": {},
   "outputs": [
    {
     "data": {
      "text/plain": [
       "174    18.5\n",
       "187    17.2\n",
       "189    19.0\n",
       "195    16.6\n",
       "Name: ISI, dtype: float64"
      ]
     },
     "execution_count": 137,
     "metadata": {},
     "output_type": "execute_result"
    }
   ],
   "source": [
    "outliers_df = df.loc[outliers, 'ISI']\n",
    "outliers_df.head()"
   ]
  },
  {
   "cell_type": "markdown",
   "id": "07a6c13a",
   "metadata": {},
   "source": [
    "#### remove the Outliers from ISI"
   ]
  },
  {
   "cell_type": "code",
   "execution_count": 138,
   "id": "512a9535",
   "metadata": {},
   "outputs": [
    {
     "data": {
      "text/plain": [
       "0    1.3\n",
       "1    1.0\n",
       "2    0.3\n",
       "3    0.0\n",
       "4    1.2\n",
       "Name: ISI, dtype: float64"
      ]
     },
     "execution_count": 138,
     "metadata": {},
     "output_type": "execute_result"
    }
   ],
   "source": [
    "df_trimed= df.loc[~outliers, 'ISI']\n",
    "df_trimed.head()"
   ]
  },
  {
   "cell_type": "code",
   "execution_count": 139,
   "id": "2a5b8922",
   "metadata": {},
   "outputs": [],
   "source": [
    "df['ISI'] = df_trimed"
   ]
  },
  {
   "cell_type": "code",
   "execution_count": 140,
   "id": "3cfdeaa3",
   "metadata": {},
   "outputs": [
    {
     "data": {
      "text/plain": [
       "Text(0.5, 1.0, 'Boxplot')"
      ]
     },
     "execution_count": 140,
     "metadata": {},
     "output_type": "execute_result"
    },
    {
     "data": {
      "image/png": "[encoded data removed]",
      "text/plain": [
       "<Figure size 216x432 with 1 Axes>"
      ]
     },
     "metadata": {
      "needs_background": "light"
     },
     "output_type": "display_data"
    }
   ],
   "source": [
    "plt.figure(figsize=(3,6))\n",
    "sns.boxplot(y=df['ISI'])\n",
    "plt.title('Boxplot')"
   ]
  },
  {
   "cell_type": "code",
   "execution_count": 141,
   "id": "47b5d761",
   "metadata": {},
   "outputs": [
    {
     "data": {
      "text/plain": [
       "Text(0.5, 1.0, 'Boxplot')"
      ]
     },
     "execution_count": 141,
     "metadata": {},
     "output_type": "execute_result"
    },
    {
     "data": {
      "image/png": "[encoded data removed]",
      "text/plain": [
       "<Figure size 216x432 with 1 Axes>"
      ]
     },
     "metadata": {
      "needs_background": "light"
     },
     "output_type": "display_data"
    }
   ],
   "source": [
    "plt.figure(figsize=(3,6))\n",
    "sns.boxplot(y=df['FWI'])\n",
    "plt.title('Boxplot')"
   ]
  },
  {
   "cell_type": "code",
   "execution_count": 142,
   "id": "ff49ce5f",
   "metadata": {},
   "outputs": [
    {
     "data": {
      "text/html": [
       "<div>\n",
       "<style scoped>\n",
       "    .dataframe tbody tr th:only-of-type {\n",
       "        vertical-align: middle;\n",
       "    }\n",
       "\n",
       "    .dataframe tbody tr th {\n",
       "        vertical-align: top;\n",
       "    }\n",
       "\n",
       "    .dataframe thead th {\n",
       "        text-align: right;\n",
       "    }\n",
       "</style>\n",
       "<table border=\"1\" class=\"dataframe\">\n",
       "  <thead>\n",
       "    <tr style=\"text-align: right;\">\n",
       "      <th></th>\n",
       "      <th>Temperature</th>\n",
       "      <th>RH</th>\n",
       "      <th>Ws</th>\n",
       "      <th>Rain</th>\n",
       "      <th>FFMC</th>\n",
       "      <th>DMC</th>\n",
       "      <th>DC</th>\n",
       "      <th>ISI</th>\n",
       "      <th>BUI</th>\n",
       "      <th>FWI</th>\n",
       "      <th>Classes</th>\n",
       "      <th>date</th>\n",
       "      <th>Region</th>\n",
       "    </tr>\n",
       "  </thead>\n",
       "  <tbody>\n",
       "    <tr>\n",
       "      <th>0</th>\n",
       "      <td>29</td>\n",
       "      <td>57</td>\n",
       "      <td>18.0</td>\n",
       "      <td>0.0</td>\n",
       "      <td>65.7</td>\n",
       "      <td>3.4</td>\n",
       "      <td>7.6</td>\n",
       "      <td>1.3</td>\n",
       "      <td>3.4</td>\n",
       "      <td>0.5</td>\n",
       "      <td>0</td>\n",
       "      <td>1338508800000000000</td>\n",
       "      <td>0.0</td>\n",
       "    </tr>\n",
       "    <tr>\n",
       "      <th>1</th>\n",
       "      <td>29</td>\n",
       "      <td>61</td>\n",
       "      <td>13.0</td>\n",
       "      <td>NaN</td>\n",
       "      <td>64.4</td>\n",
       "      <td>4.1</td>\n",
       "      <td>7.6</td>\n",
       "      <td>1.0</td>\n",
       "      <td>3.9</td>\n",
       "      <td>0.4</td>\n",
       "      <td>0</td>\n",
       "      <td>1338595200000000000</td>\n",
       "      <td>0.0</td>\n",
       "    </tr>\n",
       "    <tr>\n",
       "      <th>2</th>\n",
       "      <td>26</td>\n",
       "      <td>82</td>\n",
       "      <td>NaN</td>\n",
       "      <td>NaN</td>\n",
       "      <td>NaN</td>\n",
       "      <td>2.5</td>\n",
       "      <td>7.1</td>\n",
       "      <td>0.3</td>\n",
       "      <td>2.7</td>\n",
       "      <td>0.1</td>\n",
       "      <td>0</td>\n",
       "      <td>1338681600000000000</td>\n",
       "      <td>0.0</td>\n",
       "    </tr>\n",
       "    <tr>\n",
       "      <th>3</th>\n",
       "      <td>25</td>\n",
       "      <td>89</td>\n",
       "      <td>13.0</td>\n",
       "      <td>NaN</td>\n",
       "      <td>NaN</td>\n",
       "      <td>1.3</td>\n",
       "      <td>6.9</td>\n",
       "      <td>0.0</td>\n",
       "      <td>1.7</td>\n",
       "      <td>0.0</td>\n",
       "      <td>0</td>\n",
       "      <td>1338768000000000000</td>\n",
       "      <td>0.0</td>\n",
       "    </tr>\n",
       "    <tr>\n",
       "      <th>4</th>\n",
       "      <td>27</td>\n",
       "      <td>77</td>\n",
       "      <td>16.0</td>\n",
       "      <td>0.0</td>\n",
       "      <td>64.8</td>\n",
       "      <td>3.0</td>\n",
       "      <td>14.2</td>\n",
       "      <td>1.2</td>\n",
       "      <td>3.9</td>\n",
       "      <td>0.5</td>\n",
       "      <td>0</td>\n",
       "      <td>1338854400000000000</td>\n",
       "      <td>0.0</td>\n",
       "    </tr>\n",
       "  </tbody>\n",
       "</table>\n",
       "</div>"
      ],
      "text/plain": [
       "   Temperature  RH    Ws  Rain  FFMC  DMC    DC  ISI  BUI  FWI  Classes  \\\n",
       "0           29  57  18.0   0.0  65.7  3.4   7.6  1.3  3.4  0.5        0   \n",
       "1           29  61  13.0   NaN  64.4  4.1   7.6  1.0  3.9  0.4        0   \n",
       "2           26  82   NaN   NaN   NaN  2.5   7.1  0.3  2.7  0.1        0   \n",
       "3           25  89  13.0   NaN   NaN  1.3   6.9  0.0  1.7  0.0        0   \n",
       "4           27  77  16.0   0.0  64.8  3.0  14.2  1.2  3.9  0.5        0   \n",
       "\n",
       "                  date  Region  \n",
       "0  1338508800000000000     0.0  \n",
       "1  1338595200000000000     0.0  \n",
       "2  1338681600000000000     0.0  \n",
       "3  1338768000000000000     0.0  \n",
       "4  1338854400000000000     0.0  "
      ]
     },
     "execution_count": 142,
     "metadata": {},
     "output_type": "execute_result"
    }
   ],
   "source": [
    "df.head()"
   ]
  },
  {
   "cell_type": "code",
   "execution_count": 144,
   "id": "cd62d655",
   "metadata": {},
   "outputs": [
    {
     "data": {
      "text/plain": [
       "Temperature      int64\n",
       "RH               int64\n",
       "Ws             float64\n",
       "Rain           float64\n",
       "FFMC           float64\n",
       "DMC            float64\n",
       "DC             float64\n",
       "ISI            float64\n",
       "BUI            float64\n",
       "FWI            float64\n",
       "Classes          int64\n",
       "date             int64\n",
       "Region         float64\n",
       "dtype: object"
      ]
     },
     "execution_count": 144,
     "metadata": {},
     "output_type": "execute_result"
    }
   ],
   "source": [
    "df.dtypes"
   ]
  },
  {
   "cell_type": "code",
   "execution_count": 149,
   "id": "ad918346",
   "metadata": {},
   "outputs": [
    {
     "data": {
      "text/plain": [
       "Temperature     0\n",
       "RH              0\n",
       "Ws              8\n",
       "Rain           35\n",
       "FFMC           16\n",
       "DMC            12\n",
       "DC             15\n",
       "ISI             4\n",
       "BUI            12\n",
       "FWI             0\n",
       "Classes         0\n",
       "date            0\n",
       "Region          0\n",
       "dtype: int64"
      ]
     },
     "execution_count": 149,
     "metadata": {},
     "output_type": "execute_result"
    }
   ],
   "source": [
    "df.isnull().sum()"
   ]
  },
  {
   "cell_type": "markdown",
   "id": "eb024f96",
   "metadata": {},
   "source": [
    "### first let's make a copy of dataset"
   ]
  },
  {
   "cell_type": "code",
   "execution_count": 159,
   "id": "110125ae",
   "metadata": {},
   "outputs": [],
   "source": [
    "df_copy = df"
   ]
  },
  {
   "cell_type": "code",
   "execution_count": 160,
   "id": "75bf715f",
   "metadata": {},
   "outputs": [
    {
     "data": {
      "text/html": [
       "<div>\n",
       "<style scoped>\n",
       "    .dataframe tbody tr th:only-of-type {\n",
       "        vertical-align: middle;\n",
       "    }\n",
       "\n",
       "    .dataframe tbody tr th {\n",
       "        vertical-align: top;\n",
       "    }\n",
       "\n",
       "    .dataframe thead th {\n",
       "        text-align: right;\n",
       "    }\n",
       "</style>\n",
       "<table border=\"1\" class=\"dataframe\">\n",
       "  <thead>\n",
       "    <tr style=\"text-align: right;\">\n",
       "      <th></th>\n",
       "      <th>Temperature</th>\n",
       "      <th>RH</th>\n",
       "      <th>Ws</th>\n",
       "      <th>Rain</th>\n",
       "      <th>FFMC</th>\n",
       "      <th>DMC</th>\n",
       "      <th>DC</th>\n",
       "      <th>ISI</th>\n",
       "      <th>BUI</th>\n",
       "      <th>FWI</th>\n",
       "      <th>Classes</th>\n",
       "      <th>date</th>\n",
       "      <th>Region</th>\n",
       "    </tr>\n",
       "  </thead>\n",
       "  <tbody>\n",
       "    <tr>\n",
       "      <th>0</th>\n",
       "      <td>29</td>\n",
       "      <td>57</td>\n",
       "      <td>18.0</td>\n",
       "      <td>0.0</td>\n",
       "      <td>65.7</td>\n",
       "      <td>3.4</td>\n",
       "      <td>7.6</td>\n",
       "      <td>1.3</td>\n",
       "      <td>3.4</td>\n",
       "      <td>0.5</td>\n",
       "      <td>0</td>\n",
       "      <td>1338508800000000000</td>\n",
       "      <td>0.0</td>\n",
       "    </tr>\n",
       "    <tr>\n",
       "      <th>1</th>\n",
       "      <td>29</td>\n",
       "      <td>61</td>\n",
       "      <td>13.0</td>\n",
       "      <td>NaN</td>\n",
       "      <td>64.4</td>\n",
       "      <td>4.1</td>\n",
       "      <td>7.6</td>\n",
       "      <td>1.0</td>\n",
       "      <td>3.9</td>\n",
       "      <td>0.4</td>\n",
       "      <td>0</td>\n",
       "      <td>1338595200000000000</td>\n",
       "      <td>0.0</td>\n",
       "    </tr>\n",
       "    <tr>\n",
       "      <th>2</th>\n",
       "      <td>26</td>\n",
       "      <td>82</td>\n",
       "      <td>NaN</td>\n",
       "      <td>NaN</td>\n",
       "      <td>NaN</td>\n",
       "      <td>2.5</td>\n",
       "      <td>7.1</td>\n",
       "      <td>0.3</td>\n",
       "      <td>2.7</td>\n",
       "      <td>0.1</td>\n",
       "      <td>0</td>\n",
       "      <td>1338681600000000000</td>\n",
       "      <td>0.0</td>\n",
       "    </tr>\n",
       "    <tr>\n",
       "      <th>3</th>\n",
       "      <td>25</td>\n",
       "      <td>89</td>\n",
       "      <td>13.0</td>\n",
       "      <td>NaN</td>\n",
       "      <td>NaN</td>\n",
       "      <td>1.3</td>\n",
       "      <td>6.9</td>\n",
       "      <td>0.0</td>\n",
       "      <td>1.7</td>\n",
       "      <td>0.0</td>\n",
       "      <td>0</td>\n",
       "      <td>1338768000000000000</td>\n",
       "      <td>0.0</td>\n",
       "    </tr>\n",
       "    <tr>\n",
       "      <th>4</th>\n",
       "      <td>27</td>\n",
       "      <td>77</td>\n",
       "      <td>16.0</td>\n",
       "      <td>0.0</td>\n",
       "      <td>64.8</td>\n",
       "      <td>3.0</td>\n",
       "      <td>14.2</td>\n",
       "      <td>1.2</td>\n",
       "      <td>3.9</td>\n",
       "      <td>0.5</td>\n",
       "      <td>0</td>\n",
       "      <td>1338854400000000000</td>\n",
       "      <td>0.0</td>\n",
       "    </tr>\n",
       "    <tr>\n",
       "      <th>...</th>\n",
       "      <td>...</td>\n",
       "      <td>...</td>\n",
       "      <td>...</td>\n",
       "      <td>...</td>\n",
       "      <td>...</td>\n",
       "      <td>...</td>\n",
       "      <td>...</td>\n",
       "      <td>...</td>\n",
       "      <td>...</td>\n",
       "      <td>...</td>\n",
       "      <td>...</td>\n",
       "      <td>...</td>\n",
       "      <td>...</td>\n",
       "    </tr>\n",
       "    <tr>\n",
       "      <th>241</th>\n",
       "      <td>30</td>\n",
       "      <td>65</td>\n",
       "      <td>14.0</td>\n",
       "      <td>0.0</td>\n",
       "      <td>85.4</td>\n",
       "      <td>16.0</td>\n",
       "      <td>44.5</td>\n",
       "      <td>4.5</td>\n",
       "      <td>16.9</td>\n",
       "      <td>6.5</td>\n",
       "      <td>1</td>\n",
       "      <td>1348617600000000000</td>\n",
       "      <td>1.0</td>\n",
       "    </tr>\n",
       "    <tr>\n",
       "      <th>242</th>\n",
       "      <td>28</td>\n",
       "      <td>87</td>\n",
       "      <td>15.0</td>\n",
       "      <td>NaN</td>\n",
       "      <td>NaN</td>\n",
       "      <td>6.5</td>\n",
       "      <td>8.0</td>\n",
       "      <td>0.1</td>\n",
       "      <td>6.2</td>\n",
       "      <td>0.0</td>\n",
       "      <td>0</td>\n",
       "      <td>1348704000000000000</td>\n",
       "      <td>1.0</td>\n",
       "    </tr>\n",
       "    <tr>\n",
       "      <th>243</th>\n",
       "      <td>27</td>\n",
       "      <td>87</td>\n",
       "      <td>NaN</td>\n",
       "      <td>0.5</td>\n",
       "      <td>NaN</td>\n",
       "      <td>3.5</td>\n",
       "      <td>7.9</td>\n",
       "      <td>0.4</td>\n",
       "      <td>3.4</td>\n",
       "      <td>0.2</td>\n",
       "      <td>0</td>\n",
       "      <td>1348790400000000000</td>\n",
       "      <td>1.0</td>\n",
       "    </tr>\n",
       "    <tr>\n",
       "      <th>244</th>\n",
       "      <td>24</td>\n",
       "      <td>54</td>\n",
       "      <td>18.0</td>\n",
       "      <td>0.1</td>\n",
       "      <td>79.7</td>\n",
       "      <td>4.3</td>\n",
       "      <td>15.2</td>\n",
       "      <td>1.7</td>\n",
       "      <td>5.1</td>\n",
       "      <td>0.7</td>\n",
       "      <td>0</td>\n",
       "      <td>1348876800000000000</td>\n",
       "      <td>1.0</td>\n",
       "    </tr>\n",
       "    <tr>\n",
       "      <th>245</th>\n",
       "      <td>24</td>\n",
       "      <td>64</td>\n",
       "      <td>15.0</td>\n",
       "      <td>0.2</td>\n",
       "      <td>67.3</td>\n",
       "      <td>3.8</td>\n",
       "      <td>16.5</td>\n",
       "      <td>1.2</td>\n",
       "      <td>4.8</td>\n",
       "      <td>0.5</td>\n",
       "      <td>0</td>\n",
       "      <td>1348963200000000000</td>\n",
       "      <td>1.0</td>\n",
       "    </tr>\n",
       "  </tbody>\n",
       "</table>\n",
       "<p>244 rows × 13 columns</p>\n",
       "</div>"
      ],
      "text/plain": [
       "     Temperature  RH    Ws  Rain  FFMC   DMC    DC  ISI   BUI  FWI  Classes  \\\n",
       "0             29  57  18.0   0.0  65.7   3.4   7.6  1.3   3.4  0.5        0   \n",
       "1             29  61  13.0   NaN  64.4   4.1   7.6  1.0   3.9  0.4        0   \n",
       "2             26  82   NaN   NaN   NaN   2.5   7.1  0.3   2.7  0.1        0   \n",
       "3             25  89  13.0   NaN   NaN   1.3   6.9  0.0   1.7  0.0        0   \n",
       "4             27  77  16.0   0.0  64.8   3.0  14.2  1.2   3.9  0.5        0   \n",
       "..           ...  ..   ...   ...   ...   ...   ...  ...   ...  ...      ...   \n",
       "241           30  65  14.0   0.0  85.4  16.0  44.5  4.5  16.9  6.5        1   \n",
       "242           28  87  15.0   NaN   NaN   6.5   8.0  0.1   6.2  0.0        0   \n",
       "243           27  87   NaN   0.5   NaN   3.5   7.9  0.4   3.4  0.2        0   \n",
       "244           24  54  18.0   0.1  79.7   4.3  15.2  1.7   5.1  0.7        0   \n",
       "245           24  64  15.0   0.2  67.3   3.8  16.5  1.2   4.8  0.5        0   \n",
       "\n",
       "                    date  Region  \n",
       "0    1338508800000000000     0.0  \n",
       "1    1338595200000000000     0.0  \n",
       "2    1338681600000000000     0.0  \n",
       "3    1338768000000000000     0.0  \n",
       "4    1338854400000000000     0.0  \n",
       "..                   ...     ...  \n",
       "241  1348617600000000000     1.0  \n",
       "242  1348704000000000000     1.0  \n",
       "243  1348790400000000000     1.0  \n",
       "244  1348876800000000000     1.0  \n",
       "245  1348963200000000000     1.0  \n",
       "\n",
       "[244 rows x 13 columns]"
      ]
     },
     "execution_count": 160,
     "metadata": {},
     "output_type": "execute_result"
    }
   ],
   "source": [
    "df_copy"
   ]
  },
  {
   "cell_type": "code",
   "execution_count": 161,
   "id": "ff1a6bd7",
   "metadata": {},
   "outputs": [],
   "source": [
    "df_copy.fillna(df_copy.mean().round(1), inplace=True)"
   ]
  },
  {
   "cell_type": "code",
   "execution_count": 162,
   "id": "0cd2b2ac",
   "metadata": {},
   "outputs": [
    {
     "data": {
      "text/plain": [
       "Temperature    0\n",
       "RH             0\n",
       "Ws             0\n",
       "Rain           0\n",
       "FFMC           0\n",
       "DMC            0\n",
       "DC             0\n",
       "ISI            0\n",
       "BUI            0\n",
       "FWI            0\n",
       "Classes        0\n",
       "date           0\n",
       "Region         0\n",
       "dtype: int64"
      ]
     },
     "execution_count": 162,
     "metadata": {},
     "output_type": "execute_result"
    }
   ],
   "source": [
    "df_copy.isnull().sum()"
   ]
  },
  {
   "cell_type": "code",
   "execution_count": 163,
   "id": "bd19cd51",
   "metadata": {},
   "outputs": [],
   "source": [
    "X = df_copy.drop(columns=['Classes'])\n",
    "y = df_copy['Classes']"
   ]
  },
  {
   "cell_type": "code",
   "execution_count": 164,
   "id": "fdc3a764",
   "metadata": {},
   "outputs": [
    {
     "data": {
      "image/png": "[encoded data removed]",
      "text/plain": [
       "<Figure size 1440x1800 with 9 Axes>"
      ]
     },
     "metadata": {},
     "output_type": "display_data"
    }
   ],
   "source": [
    "# Let's see how data is distributed for every column\n",
    "\n",
    "plt.figure(figsize=(20,25), facecolor='white')\n",
    "plotnumber = 1\n",
    "\n",
    "for column in X:\n",
    "    if plotnumber <= 9:\n",
    "        ax = plt.subplot(3,3,plotnumber)\n",
    "        sns.stripplot(y,X[column])\n",
    "    plotnumber+=1\n",
    "plt.tight_layout()"
   ]
  },
  {
   "cell_type": "code",
   "execution_count": 165,
   "id": "73edea09",
   "metadata": {},
   "outputs": [],
   "source": [
    "# importing sklearn\n",
    "\n",
    "from sklearn.preprocessing import StandardScaler \n",
    "from sklearn.linear_model  import Ridge,Lasso,RidgeCV, LassoCV, ElasticNet, ElasticNetCV, LogisticRegression\n",
    "from sklearn.model_selection import train_test_split\n",
    "from statsmodels.stats.outliers_influence import variance_inflation_factor \n",
    "from sklearn.metrics import accuracy_score, confusion_matrix, roc_curve, roc_auc_score\n",
    "import matplotlib.pyplot as plt\n",
    "import seaborn as sns\n",
    "import scikitplot as skl\n",
    "sns.set()"
   ]
  },
  {
   "cell_type": "code",
   "execution_count": 166,
   "id": "77125c1a",
   "metadata": {},
   "outputs": [],
   "source": [
    "scalar = StandardScaler()\n",
    "X_scaled = scalar.fit_transform(X)"
   ]
  },
  {
   "cell_type": "code",
   "execution_count": 167,
   "id": "26c90aa2",
   "metadata": {},
   "outputs": [
    {
     "data": {
      "text/plain": [
       "array([[-0.87473544, -0.33247844,  1.08920316, ..., -0.87656628,\n",
       "        -1.71791138, -1.        ],\n",
       "       [-0.87473544, -0.0631847 , -1.06798492, ..., -0.89003748,\n",
       "        -1.68951615, -1.        ],\n",
       "       [-1.70200461,  1.35060746,  0.01060912, ..., -0.93045106,\n",
       "        -1.66112092, -1.        ],\n",
       "       ...,\n",
       "       [-1.42624822,  1.68722464,  0.01060912, ..., -0.91697987,\n",
       "         1.66112092,  1.        ],\n",
       "       [-2.25351739, -0.53444875,  1.08920316, ..., -0.84962389,\n",
       "         1.68951615,  1.        ],\n",
       "       [-2.25351739,  0.13878561, -0.20510969, ..., -0.87656628,\n",
       "         1.71791138,  1.        ]])"
      ]
     },
     "execution_count": 167,
     "metadata": {},
     "output_type": "execute_result"
    }
   ],
   "source": [
    "X_scaled"
   ]
  },
  {
   "cell_type": "code",
   "execution_count": 168,
   "id": "99680b45",
   "metadata": {},
   "outputs": [
    {
     "data": {
      "text/html": [
       "<div>\n",
       "<style scoped>\n",
       "    .dataframe tbody tr th:only-of-type {\n",
       "        vertical-align: middle;\n",
       "    }\n",
       "\n",
       "    .dataframe tbody tr th {\n",
       "        vertical-align: top;\n",
       "    }\n",
       "\n",
       "    .dataframe thead th {\n",
       "        text-align: right;\n",
       "    }\n",
       "</style>\n",
       "<table border=\"1\" class=\"dataframe\">\n",
       "  <thead>\n",
       "    <tr style=\"text-align: right;\">\n",
       "      <th></th>\n",
       "      <th>vif</th>\n",
       "      <th>Features</th>\n",
       "    </tr>\n",
       "  </thead>\n",
       "  <tbody>\n",
       "    <tr>\n",
       "      <th>0</th>\n",
       "      <td>2.369443</td>\n",
       "      <td>Temperature</td>\n",
       "    </tr>\n",
       "    <tr>\n",
       "      <th>1</th>\n",
       "      <td>2.536721</td>\n",
       "      <td>RH</td>\n",
       "    </tr>\n",
       "    <tr>\n",
       "      <th>2</th>\n",
       "      <td>1.232758</td>\n",
       "      <td>Ws</td>\n",
       "    </tr>\n",
       "    <tr>\n",
       "      <th>3</th>\n",
       "      <td>1.672169</td>\n",
       "      <td>Rain</td>\n",
       "    </tr>\n",
       "    <tr>\n",
       "      <th>4</th>\n",
       "      <td>3.015554</td>\n",
       "      <td>FFMC</td>\n",
       "    </tr>\n",
       "    <tr>\n",
       "      <th>5</th>\n",
       "      <td>6.641173</td>\n",
       "      <td>DMC</td>\n",
       "    </tr>\n",
       "    <tr>\n",
       "      <th>6</th>\n",
       "      <td>3.914253</td>\n",
       "      <td>DC</td>\n",
       "    </tr>\n",
       "    <tr>\n",
       "      <th>7</th>\n",
       "      <td>6.393014</td>\n",
       "      <td>ISI</td>\n",
       "    </tr>\n",
       "    <tr>\n",
       "      <th>8</th>\n",
       "      <td>9.257605</td>\n",
       "      <td>BUI</td>\n",
       "    </tr>\n",
       "    <tr>\n",
       "      <th>9</th>\n",
       "      <td>6.305686</td>\n",
       "      <td>FWI</td>\n",
       "    </tr>\n",
       "    <tr>\n",
       "      <th>10</th>\n",
       "      <td>1.107438</td>\n",
       "      <td>date</td>\n",
       "    </tr>\n",
       "    <tr>\n",
       "      <th>11</th>\n",
       "      <td>1.332962</td>\n",
       "      <td>Region</td>\n",
       "    </tr>\n",
       "  </tbody>\n",
       "</table>\n",
       "</div>"
      ],
      "text/plain": [
       "         vif     Features\n",
       "0   2.369443  Temperature\n",
       "1   2.536721           RH\n",
       "2   1.232758           Ws\n",
       "3   1.672169         Rain\n",
       "4   3.015554         FFMC\n",
       "5   6.641173          DMC\n",
       "6   3.914253           DC\n",
       "7   6.393014          ISI\n",
       "8   9.257605          BUI\n",
       "9   6.305686          FWI\n",
       "10  1.107438         date\n",
       "11  1.332962       Region"
      ]
     },
     "execution_count": 168,
     "metadata": {},
     "output_type": "execute_result"
    }
   ],
   "source": [
    "vif = pd.DataFrame()\n",
    "vif[\"vif\"] = [variance_inflation_factor(X_scaled,i) for i in range(X_scaled.shape[1])]\n",
    "vif[\"Features\"] = X.columns\n",
    "\n",
    "#let's check the values\n",
    "vif"
   ]
  },
  {
   "cell_type": "markdown",
   "id": "bc0f51ac",
   "metadata": {},
   "source": [
    "- VIF equal to 1 = variables are not correlated\n",
    "- VIF between 1 and 5 = variables are moderately correlated \n",
    "- VIF greater than 5 = variables are highly correlated"
   ]
  },
  {
   "cell_type": "code",
   "execution_count": 170,
   "id": "cfb0596c",
   "metadata": {},
   "outputs": [],
   "source": [
    "x_train,x_test,y_train,y_test = train_test_split(X_scaled,y, test_size= 0.25, random_state = 355)"
   ]
  },
  {
   "cell_type": "code",
   "execution_count": 171,
   "id": "f41ff584",
   "metadata": {},
   "outputs": [
    {
     "data": {
      "text/plain": [
       "LogisticRegression()"
      ]
     },
     "execution_count": 171,
     "metadata": {},
     "output_type": "execute_result"
    }
   ],
   "source": [
    "log_reg = LogisticRegression()\n",
    "\n",
    "log_reg.fit(x_train,y_train)"
   ]
  },
  {
   "cell_type": "code",
   "execution_count": 172,
   "id": "231267cf",
   "metadata": {},
   "outputs": [],
   "source": [
    "import pickle\n",
    "# Writing different model files to file\n",
    "with open( 'modelForPrediction.sav', 'wb') as f:\n",
    "    pickle.dump(log_reg,f)\n",
    "    \n",
    "with open('sandardScalar.sav', 'wb') as f:\n",
    "    pickle.dump(scalar,f)"
   ]
  },
  {
   "cell_type": "code",
   "execution_count": 173,
   "id": "9746f913",
   "metadata": {},
   "outputs": [],
   "source": [
    "y_pred = log_reg.predict(x_test)"
   ]
  },
  {
   "cell_type": "code",
   "execution_count": 174,
   "id": "e2da0c6f",
   "metadata": {},
   "outputs": [
    {
     "data": {
      "text/plain": [
       "0.9508196721311475"
      ]
     },
     "execution_count": 174,
     "metadata": {},
     "output_type": "execute_result"
    }
   ],
   "source": [
    "accuracy = accuracy_score(y_test,y_pred)\n",
    "accuracy"
   ]
  },
  {
   "cell_type": "code",
   "execution_count": 175,
   "id": "f47056e6",
   "metadata": {},
   "outputs": [
    {
     "data": {
      "text/plain": [
       "array([[27,  0],\n",
       "       [ 3, 31]], dtype=int64)"
      ]
     },
     "execution_count": 175,
     "metadata": {},
     "output_type": "execute_result"
    }
   ],
   "source": [
    "# Confusion Matrix\n",
    "conf_mat = confusion_matrix(y_test,y_pred)\n",
    "conf_mat"
   ]
  },
  {
   "cell_type": "code",
   "execution_count": 176,
   "id": "a2253b8d",
   "metadata": {},
   "outputs": [],
   "source": [
    "true_positive = conf_mat[0][0]\n",
    "false_positive = conf_mat[0][1]\n",
    "false_negative = conf_mat[1][0]\n",
    "true_negative = conf_mat[1][1]"
   ]
  },
  {
   "cell_type": "code",
   "execution_count": 177,
   "id": "bd8746be",
   "metadata": {},
   "outputs": [
    {
     "data": {
      "text/plain": [
       "0.9508196721311475"
      ]
     },
     "execution_count": 177,
     "metadata": {},
     "output_type": "execute_result"
    }
   ],
   "source": [
    "# Breaking down the formula for Accuracy\n",
    "Accuracy = (true_positive + true_negative) / (true_positive +false_positive + false_negative + true_negative)\n",
    "Accuracy"
   ]
  },
  {
   "cell_type": "code",
   "execution_count": 178,
   "id": "c4894624",
   "metadata": {},
   "outputs": [
    {
     "data": {
      "text/plain": [
       "1.0"
      ]
     },
     "execution_count": 178,
     "metadata": {},
     "output_type": "execute_result"
    }
   ],
   "source": [
    "# Precison\n",
    "Precision = true_positive/(true_positive+false_positive)\n",
    "Precision"
   ]
  },
  {
   "cell_type": "code",
   "execution_count": 180,
   "id": "b1fdadc3",
   "metadata": {},
   "outputs": [
    {
     "data": {
      "text/plain": [
       "0.9"
      ]
     },
     "execution_count": 180,
     "metadata": {},
     "output_type": "execute_result"
    }
   ],
   "source": [
    "# Recall\n",
    "Recall = true_positive/(true_positive+false_negative)\n",
    "Recall"
   ]
  },
  {
   "cell_type": "code",
   "execution_count": 181,
   "id": "75a6ec26",
   "metadata": {},
   "outputs": [
    {
     "data": {
      "text/plain": [
       "0.9473684210526316"
      ]
     },
     "execution_count": 181,
     "metadata": {},
     "output_type": "execute_result"
    }
   ],
   "source": [
    "# F1 Score\n",
    "F1_Score = 2*(Recall * Precision) / (Recall + Precision)\n",
    "F1_Score"
   ]
  },
  {
   "cell_type": "code",
   "execution_count": 182,
   "id": "5e7c51aa",
   "metadata": {},
   "outputs": [
    {
     "data": {
      "text/plain": [
       "0.9558823529411764"
      ]
     },
     "execution_count": 182,
     "metadata": {},
     "output_type": "execute_result"
    }
   ],
   "source": [
    "# Area Under Curve\n",
    "auc = roc_auc_score(y_test, y_pred)\n",
    "auc"
   ]
  },
  {
   "cell_type": "code",
   "execution_count": null,
   "id": "4ea843b7",
   "metadata": {},
   "outputs": [],
   "source": []
  }
 ],
 "metadata": {
  "kernelspec": {
   "display_name": "Python 3 (ipykernel)",
   "language": "python",
   "name": "python3"
  },
  "language_info": {
   "codemirror_mode": {
    "name": "ipython",
    "version": 3
   },
   "file_extension": ".py",
   "mimetype": "text/x-python",
   "name": "python",
   "nbconvert_exporter": "python",
   "pygments_lexer": "ipython3",
   "version": "3.9.12"
  }
 },
 "nbformat": 4,
 "nbformat_minor": 5
}
